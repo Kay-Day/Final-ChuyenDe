{
 "cells": [
  {
   "cell_type": "markdown",
   "id": "3745f1f2",
   "metadata": {},
   "source": [
    "\n",
    "\n",
    "\n",
    "\n",
    "# Real-world Data Wrangling\n",
    "### Fullname: Nguyễn Lê Như Nghĩa\n",
    "### ID: 21IT567\n",
    "### Class: 21JIT"
   ]
  },
  {
   "cell_type": "markdown",
   "id": "73408f8f",
   "metadata": {},
   "source": [
    "### 1. Gather data"
   ]
  },
  {
   "cell_type": "markdown",
   "id": "1edb2d19",
   "metadata": {},
   "source": [
    "### 1.1 Problem Statement\n",
    "This project aims to practice my skills of data wrangling using real-world datasets.\n",
    "\n",
    "Your statements here\n",
    "\n",
    "In this dataset, I would like to answer the following research questions:\n",
    "\n",
    "Question 1: Việc hút thuốc ảnh hưởng như thế nào đến chỉ số huyết áp?\n",
    "\n",
    "Question 2: Những người hút thuốc có chỉ số BMI (Body Mass Index) khác biệt so với những người không hút thuốc không?\n",
    "\n",
    "Question 3: Việc hút thuốc có ảnh hưởng đến các chỉ số men gan (AST, ALT, Gtp) không?\n",
    "\n",
    "Question 4: Những người hút thuốc có tỷ lệ bị sâu răng và cao răng cao hơn so với những người không hút thuốc không?\n",
    "\n",
    "Question 5: Tỷ lệ protein trong nước tiểu của người hút thuốc có cao hơn so với người không hút thuốc không?\n",
    "\n",
    "Question 6: Việc hút thuốc ảnh hưởng như thế nào đến thị lực (mắt trái và mắt phải)?"
   ]
  },
  {
   "cell_type": "markdown",
   "id": "0fc4cf88",
   "metadata": {},
   "source": [
    "### 1.2. Gather at least two datasets using two different data gathering methods\n",
    "Gather each of the 2 pieces of data from different sources:\n",
    "- Hoàng Văn Tùng"
   ]
  },
  {
   "cell_type": "code",
<<<<<<< HEAD
   "execution_count": 4,
=======
   "execution_count": 43,
>>>>>>> e09260cc58cba16ef9984c82a4ce0d3dbafc6c0b
   "id": "69707645",
   "metadata": {},
   "outputs": [],
   "source": [
    "# import libraries:\n",
    "import pandas as pd\n",
    "import matplotlib.pyplot as plt\n",
    "import seaborn as sns\n",
    "\n"
   ]
  },
  {
   "cell_type": "code",
<<<<<<< HEAD
   "execution_count": 5,
=======
   "execution_count": 44,
>>>>>>> e09260cc58cba16ef9984c82a4ce0d3dbafc6c0b
   "id": "40a85a57",
   "metadata": {},
   "outputs": [],
   "source": [
    "#FILL IN 1st data gathering and loading method\n",
    "# Đọc dữ liệu từ tập tin CSV\n",
    "df1 = pd.read_csv('smoking.csv')"
   ]
  },
  {
   "cell_type": "code",
   "execution_count": 45,
   "id": "db7ce7fb",
   "metadata": {
    "scrolled": true
   },
   "outputs": [
    {
     "data": {
      "text/html": [
       "<div>\n",
       "<style scoped>\n",
       "    .dataframe tbody tr th:only-of-type {\n",
       "        vertical-align: middle;\n",
       "    }\n",
       "\n",
       "    .dataframe tbody tr th {\n",
       "        vertical-align: top;\n",
       "    }\n",
       "\n",
       "    .dataframe thead th {\n",
       "        text-align: right;\n",
       "    }\n",
       "</style>\n",
       "<table border=\"1\" class=\"dataframe\">\n",
       "  <thead>\n",
       "    <tr style=\"text-align: right;\">\n",
       "      <th></th>\n",
       "      <th>ID</th>\n",
       "      <th>gender</th>\n",
       "      <th>age</th>\n",
       "      <th>height(cm)</th>\n",
       "      <th>weight(kg)</th>\n",
       "      <th>waist(cm)</th>\n",
       "      <th>eyesight(left)</th>\n",
       "      <th>eyesight(right)</th>\n",
       "      <th>hearing(left)</th>\n",
       "      <th>hearing(right)</th>\n",
       "      <th>...</th>\n",
       "      <th>hemoglobin</th>\n",
       "      <th>Urine protein</th>\n",
       "      <th>serum creatinine</th>\n",
       "      <th>AST</th>\n",
       "      <th>ALT</th>\n",
       "      <th>Gtp</th>\n",
       "      <th>oral</th>\n",
       "      <th>dental caries</th>\n",
       "      <th>tartar</th>\n",
       "      <th>smoking</th>\n",
       "    </tr>\n",
       "  </thead>\n",
       "  <tbody>\n",
       "    <tr>\n",
       "      <th>0</th>\n",
       "      <td>0</td>\n",
       "      <td>F</td>\n",
       "      <td>40</td>\n",
       "      <td>155</td>\n",
       "      <td>60</td>\n",
       "      <td>81.3</td>\n",
       "      <td>1.2</td>\n",
       "      <td>1.0</td>\n",
       "      <td>1.0</td>\n",
       "      <td>1.0</td>\n",
       "      <td>...</td>\n",
       "      <td>12.9</td>\n",
       "      <td>1.0</td>\n",
       "      <td>0.7</td>\n",
       "      <td>18.0</td>\n",
       "      <td>19.0</td>\n",
       "      <td>27.0</td>\n",
       "      <td>Y</td>\n",
       "      <td>0</td>\n",
       "      <td>Y</td>\n",
       "      <td>0</td>\n",
       "    </tr>\n",
       "    <tr>\n",
       "      <th>1</th>\n",
       "      <td>1</td>\n",
       "      <td>F</td>\n",
       "      <td>40</td>\n",
       "      <td>160</td>\n",
       "      <td>60</td>\n",
       "      <td>81.0</td>\n",
       "      <td>0.8</td>\n",
       "      <td>0.6</td>\n",
       "      <td>1.0</td>\n",
       "      <td>1.0</td>\n",
       "      <td>...</td>\n",
       "      <td>12.7</td>\n",
       "      <td>1.0</td>\n",
       "      <td>0.6</td>\n",
       "      <td>22.0</td>\n",
       "      <td>19.0</td>\n",
       "      <td>18.0</td>\n",
       "      <td>Y</td>\n",
       "      <td>0</td>\n",
       "      <td>Y</td>\n",
       "      <td>0</td>\n",
       "    </tr>\n",
       "    <tr>\n",
       "      <th>2</th>\n",
       "      <td>2</td>\n",
       "      <td>M</td>\n",
       "      <td>55</td>\n",
       "      <td>170</td>\n",
       "      <td>60</td>\n",
       "      <td>80.0</td>\n",
       "      <td>0.8</td>\n",
       "      <td>0.8</td>\n",
       "      <td>1.0</td>\n",
       "      <td>1.0</td>\n",
       "      <td>...</td>\n",
       "      <td>15.8</td>\n",
       "      <td>1.0</td>\n",
       "      <td>1.0</td>\n",
       "      <td>21.0</td>\n",
       "      <td>16.0</td>\n",
       "      <td>22.0</td>\n",
       "      <td>Y</td>\n",
       "      <td>0</td>\n",
       "      <td>N</td>\n",
       "      <td>1</td>\n",
       "    </tr>\n",
       "    <tr>\n",
       "      <th>3</th>\n",
       "      <td>3</td>\n",
       "      <td>M</td>\n",
       "      <td>40</td>\n",
       "      <td>165</td>\n",
       "      <td>70</td>\n",
       "      <td>88.0</td>\n",
       "      <td>1.5</td>\n",
       "      <td>1.5</td>\n",
       "      <td>1.0</td>\n",
       "      <td>1.0</td>\n",
       "      <td>...</td>\n",
       "      <td>14.7</td>\n",
       "      <td>1.0</td>\n",
       "      <td>1.0</td>\n",
       "      <td>19.0</td>\n",
       "      <td>26.0</td>\n",
       "      <td>18.0</td>\n",
       "      <td>Y</td>\n",
       "      <td>0</td>\n",
       "      <td>Y</td>\n",
       "      <td>0</td>\n",
       "    </tr>\n",
       "    <tr>\n",
       "      <th>4</th>\n",
       "      <td>4</td>\n",
       "      <td>F</td>\n",
       "      <td>40</td>\n",
       "      <td>155</td>\n",
       "      <td>60</td>\n",
       "      <td>86.0</td>\n",
       "      <td>1.0</td>\n",
       "      <td>1.0</td>\n",
       "      <td>1.0</td>\n",
       "      <td>1.0</td>\n",
       "      <td>...</td>\n",
       "      <td>12.5</td>\n",
       "      <td>1.0</td>\n",
       "      <td>0.6</td>\n",
       "      <td>16.0</td>\n",
       "      <td>14.0</td>\n",
       "      <td>22.0</td>\n",
       "      <td>Y</td>\n",
       "      <td>0</td>\n",
       "      <td>N</td>\n",
       "      <td>0</td>\n",
       "    </tr>\n",
       "  </tbody>\n",
       "</table>\n",
       "<p>5 rows × 27 columns</p>\n",
       "</div>"
      ],
      "text/plain": [
       "   ID gender  age  height(cm)  weight(kg)  waist(cm)  eyesight(left)  \\\n",
       "0   0      F   40         155          60       81.3             1.2   \n",
       "1   1      F   40         160          60       81.0             0.8   \n",
       "2   2      M   55         170          60       80.0             0.8   \n",
       "3   3      M   40         165          70       88.0             1.5   \n",
       "4   4      F   40         155          60       86.0             1.0   \n",
       "\n",
       "   eyesight(right)  hearing(left)  hearing(right)  ...  hemoglobin  \\\n",
       "0              1.0            1.0             1.0  ...        12.9   \n",
       "1              0.6            1.0             1.0  ...        12.7   \n",
       "2              0.8            1.0             1.0  ...        15.8   \n",
       "3              1.5            1.0             1.0  ...        14.7   \n",
       "4              1.0            1.0             1.0  ...        12.5   \n",
       "\n",
       "   Urine protein  serum creatinine   AST   ALT   Gtp  oral  dental caries  \\\n",
       "0            1.0               0.7  18.0  19.0  27.0     Y              0   \n",
       "1            1.0               0.6  22.0  19.0  18.0     Y              0   \n",
       "2            1.0               1.0  21.0  16.0  22.0     Y              0   \n",
       "3            1.0               1.0  19.0  26.0  18.0     Y              0   \n",
       "4            1.0               0.6  16.0  14.0  22.0     Y              0   \n",
       "\n",
       "   tartar  smoking  \n",
       "0       Y        0  \n",
       "1       Y        0  \n",
       "2       N        1  \n",
       "3       Y        0  \n",
       "4       N        0  \n",
       "\n",
       "[5 rows x 27 columns]"
      ]
     },
     "execution_count": 45,
     "metadata": {},
     "output_type": "execute_result"
    }
   ],
   "source": [
    "df1.head()"
   ]
  },
  {
   "cell_type": "code",
<<<<<<< HEAD
   "execution_count": null,
   "id": "9ea7e89d",
   "metadata": {},
   "outputs": [],
   "source": []
  },
  {
   "cell_type": "code",
   "execution_count": 4,
=======
   "execution_count": 46,
   "id": "c580316f",
   "metadata": {},
   "outputs": [],
   "source": [
    "# Chuyển đổi các cột có định dạng không phù hợp\n",
    "df1['age'] = df1['age'].astype(int)\n",
    "df1['height(cm)'] = df1['height(cm)'].astype(float)\n",
    "df1['weight(kg)'] = df1['weight(kg)'].astype(float)\n",
    "df1['waist(cm)'] = df1['waist(cm)'].astype(float)"
   ]
  },
  {
   "cell_type": "code",
   "execution_count": 47,
   "id": "8b7ba610",
   "metadata": {},
   "outputs": [],
   "source": [
    "# Thêm cột BMI\n",
    "df1['BMI'] = df1['weight(kg)'] / (df1['height(cm)'] / 100) ** 2"
   ]
  },
  {
   "cell_type": "code",
   "execution_count": 48,
>>>>>>> e09260cc58cba16ef9984c82a4ce0d3dbafc6c0b
   "id": "f46b00c5",
   "metadata": {},
   "outputs": [],
   "source": [
    "#FILL IN 2nd data gathering and loading method\n",
    "df2 = pd.read_csv('list_of_real_usa_addresses.csv')"
   ]
  },
  {
   "cell_type": "code",
<<<<<<< HEAD
   "execution_count": 5,
=======
   "execution_count": 49,
>>>>>>> e09260cc58cba16ef9984c82a4ce0d3dbafc6c0b
   "id": "840d85f3",
   "metadata": {},
   "outputs": [
    {
     "data": {
      "text/html": [
       "<div>\n",
       "<style scoped>\n",
       "    .dataframe tbody tr th:only-of-type {\n",
       "        vertical-align: middle;\n",
       "    }\n",
       "\n",
       "    .dataframe tbody tr th {\n",
       "        vertical-align: top;\n",
       "    }\n",
       "\n",
       "    .dataframe thead th {\n",
       "        text-align: right;\n",
       "    }\n",
       "</style>\n",
       "<table border=\"1\" class=\"dataframe\">\n",
       "  <thead>\n",
       "    <tr style=\"text-align: right;\">\n",
       "      <th></th>\n",
       "      <th>address</th>\n",
       "      <th>city</th>\n",
       "      <th>state</th>\n",
       "      <th>zip</th>\n",
       "    </tr>\n",
       "  </thead>\n",
       "  <tbody>\n",
       "    <tr>\n",
       "      <th>0</th>\n",
       "      <td>777 Brockton Avenue</td>\n",
       "      <td>Abington</td>\n",
       "      <td>MA</td>\n",
       "      <td>2351</td>\n",
       "    </tr>\n",
       "    <tr>\n",
       "      <th>1</th>\n",
       "      <td>30 Memorial Drive</td>\n",
       "      <td>Avon</td>\n",
       "      <td>MA</td>\n",
       "      <td>2322</td>\n",
       "    </tr>\n",
       "    <tr>\n",
       "      <th>2</th>\n",
       "      <td>250 Hartford Avenue</td>\n",
       "      <td>Bellingham</td>\n",
       "      <td>MA</td>\n",
       "      <td>2019</td>\n",
       "    </tr>\n",
       "    <tr>\n",
       "      <th>3</th>\n",
       "      <td>700 Oak Street</td>\n",
       "      <td>Brockton</td>\n",
       "      <td>MA</td>\n",
       "      <td>2301</td>\n",
       "    </tr>\n",
       "    <tr>\n",
       "      <th>4</th>\n",
       "      <td>66-4 Parkhurst Rd</td>\n",
       "      <td>Chelmsford</td>\n",
       "      <td>MA</td>\n",
       "      <td>1824</td>\n",
       "    </tr>\n",
       "  </tbody>\n",
       "</table>\n",
       "</div>"
      ],
      "text/plain": [
       "               address        city state   zip\n",
       "0  777 Brockton Avenue    Abington    MA  2351\n",
       "1    30 Memorial Drive        Avon    MA  2322\n",
       "2  250 Hartford Avenue  Bellingham    MA  2019\n",
       "3       700 Oak Street    Brockton    MA  2301\n",
       "4    66-4 Parkhurst Rd  Chelmsford    MA  1824"
      ]
     },
     "execution_count": 5,
     "metadata": {},
     "output_type": "execute_result"
    }
   ],
   "source": [
    "# Write data to local file \n",
    "df2.head()"
   ]
  },
  {
   "cell_type": "markdown",
   "id": "6308e1e3",
   "metadata": {},
   "source": [
    "### 2. Assess data\n",
    "I will assess the data both visually and programmatically to identify any data quality(content) issues and tidiness(structual) issues.\n",
    "\n"
   ]
  },
  {
   "cell_type": "markdown",
   "id": "0500a16e",
   "metadata": {},
   "source": [
    "### Issue 1:"
   ]
  },
  {
   "cell_type": "markdown",
   "id": "22d972b6",
   "metadata": {},
   "source": [
    "# FILL IN - Inspecting the dataframe visually\n"
   ]
  },
  {
   "cell_type": "code",
   "execution_count": 50,
   "id": "3982f021",
   "metadata": {},
   "outputs": [
    {
     "data": {
      "text/html": [
       "<div>\n",
       "<style scoped>\n",
       "    .dataframe tbody tr th:only-of-type {\n",
       "        vertical-align: middle;\n",
       "    }\n",
       "\n",
       "    .dataframe tbody tr th {\n",
       "        vertical-align: top;\n",
       "    }\n",
       "\n",
       "    .dataframe thead th {\n",
       "        text-align: right;\n",
       "    }\n",
       "</style>\n",
       "<table border=\"1\" class=\"dataframe\">\n",
       "  <thead>\n",
       "    <tr style=\"text-align: right;\">\n",
       "      <th></th>\n",
       "      <th>ID</th>\n",
       "      <th>age</th>\n",
       "      <th>height(cm)</th>\n",
       "      <th>weight(kg)</th>\n",
       "      <th>waist(cm)</th>\n",
       "      <th>eyesight(left)</th>\n",
       "      <th>eyesight(right)</th>\n",
       "      <th>hearing(left)</th>\n",
       "      <th>hearing(right)</th>\n",
       "      <th>systolic</th>\n",
       "      <th>...</th>\n",
       "      <th>HDL</th>\n",
       "      <th>LDL</th>\n",
       "      <th>hemoglobin</th>\n",
       "      <th>Urine protein</th>\n",
       "      <th>serum creatinine</th>\n",
       "      <th>AST</th>\n",
       "      <th>ALT</th>\n",
       "      <th>Gtp</th>\n",
       "      <th>dental caries</th>\n",
       "      <th>smoking</th>\n",
       "    </tr>\n",
       "  </thead>\n",
       "  <tbody>\n",
       "    <tr>\n",
       "      <th>count</th>\n",
       "      <td>55692.000000</td>\n",
       "      <td>55692.000000</td>\n",
       "      <td>55692.000000</td>\n",
       "      <td>55692.000000</td>\n",
       "      <td>55692.000000</td>\n",
       "      <td>55692.000000</td>\n",
       "      <td>55692.000000</td>\n",
       "      <td>55692.000000</td>\n",
       "      <td>55692.000000</td>\n",
       "      <td>55692.000000</td>\n",
       "      <td>...</td>\n",
       "      <td>55692.000000</td>\n",
       "      <td>55692.000000</td>\n",
       "      <td>55692.000000</td>\n",
       "      <td>55692.000000</td>\n",
       "      <td>55692.000000</td>\n",
       "      <td>55692.000000</td>\n",
       "      <td>55692.000000</td>\n",
       "      <td>55692.000000</td>\n",
       "      <td>55692.000000</td>\n",
       "      <td>55692.000000</td>\n",
       "    </tr>\n",
       "    <tr>\n",
       "      <th>mean</th>\n",
       "      <td>27845.500000</td>\n",
       "      <td>44.182917</td>\n",
       "      <td>164.649321</td>\n",
       "      <td>65.864936</td>\n",
       "      <td>82.046418</td>\n",
       "      <td>1.012623</td>\n",
       "      <td>1.007443</td>\n",
       "      <td>1.025587</td>\n",
       "      <td>1.026144</td>\n",
       "      <td>121.494218</td>\n",
       "      <td>...</td>\n",
       "      <td>57.290347</td>\n",
       "      <td>114.964501</td>\n",
       "      <td>14.622592</td>\n",
       "      <td>1.087212</td>\n",
       "      <td>0.885738</td>\n",
       "      <td>26.182935</td>\n",
       "      <td>27.036037</td>\n",
       "      <td>39.952201</td>\n",
       "      <td>0.213334</td>\n",
       "      <td>0.367288</td>\n",
       "    </tr>\n",
       "    <tr>\n",
       "      <th>std</th>\n",
       "      <td>16077.039933</td>\n",
       "      <td>12.071418</td>\n",
       "      <td>9.194597</td>\n",
       "      <td>12.820306</td>\n",
       "      <td>9.274223</td>\n",
       "      <td>0.486873</td>\n",
       "      <td>0.485964</td>\n",
       "      <td>0.157902</td>\n",
       "      <td>0.159564</td>\n",
       "      <td>13.675989</td>\n",
       "      <td>...</td>\n",
       "      <td>14.738963</td>\n",
       "      <td>40.926476</td>\n",
       "      <td>1.564498</td>\n",
       "      <td>0.404882</td>\n",
       "      <td>0.221524</td>\n",
       "      <td>19.355460</td>\n",
       "      <td>30.947853</td>\n",
       "      <td>50.290539</td>\n",
       "      <td>0.409665</td>\n",
       "      <td>0.482070</td>\n",
       "    </tr>\n",
       "    <tr>\n",
       "      <th>min</th>\n",
       "      <td>0.000000</td>\n",
       "      <td>20.000000</td>\n",
       "      <td>130.000000</td>\n",
       "      <td>30.000000</td>\n",
       "      <td>51.000000</td>\n",
       "      <td>0.100000</td>\n",
       "      <td>0.100000</td>\n",
       "      <td>1.000000</td>\n",
       "      <td>1.000000</td>\n",
       "      <td>71.000000</td>\n",
       "      <td>...</td>\n",
       "      <td>4.000000</td>\n",
       "      <td>1.000000</td>\n",
       "      <td>4.900000</td>\n",
       "      <td>1.000000</td>\n",
       "      <td>0.100000</td>\n",
       "      <td>6.000000</td>\n",
       "      <td>1.000000</td>\n",
       "      <td>1.000000</td>\n",
       "      <td>0.000000</td>\n",
       "      <td>0.000000</td>\n",
       "    </tr>\n",
       "    <tr>\n",
       "      <th>25%</th>\n",
       "      <td>13922.750000</td>\n",
       "      <td>40.000000</td>\n",
       "      <td>160.000000</td>\n",
       "      <td>55.000000</td>\n",
       "      <td>76.000000</td>\n",
       "      <td>0.800000</td>\n",
       "      <td>0.800000</td>\n",
       "      <td>1.000000</td>\n",
       "      <td>1.000000</td>\n",
       "      <td>112.000000</td>\n",
       "      <td>...</td>\n",
       "      <td>47.000000</td>\n",
       "      <td>92.000000</td>\n",
       "      <td>13.600000</td>\n",
       "      <td>1.000000</td>\n",
       "      <td>0.800000</td>\n",
       "      <td>19.000000</td>\n",
       "      <td>15.000000</td>\n",
       "      <td>17.000000</td>\n",
       "      <td>0.000000</td>\n",
       "      <td>0.000000</td>\n",
       "    </tr>\n",
       "    <tr>\n",
       "      <th>50%</th>\n",
       "      <td>27845.500000</td>\n",
       "      <td>40.000000</td>\n",
       "      <td>165.000000</td>\n",
       "      <td>65.000000</td>\n",
       "      <td>82.000000</td>\n",
       "      <td>1.000000</td>\n",
       "      <td>1.000000</td>\n",
       "      <td>1.000000</td>\n",
       "      <td>1.000000</td>\n",
       "      <td>120.000000</td>\n",
       "      <td>...</td>\n",
       "      <td>55.000000</td>\n",
       "      <td>113.000000</td>\n",
       "      <td>14.800000</td>\n",
       "      <td>1.000000</td>\n",
       "      <td>0.900000</td>\n",
       "      <td>23.000000</td>\n",
       "      <td>21.000000</td>\n",
       "      <td>25.000000</td>\n",
       "      <td>0.000000</td>\n",
       "      <td>0.000000</td>\n",
       "    </tr>\n",
       "    <tr>\n",
       "      <th>75%</th>\n",
       "      <td>41768.250000</td>\n",
       "      <td>55.000000</td>\n",
       "      <td>170.000000</td>\n",
       "      <td>75.000000</td>\n",
       "      <td>88.000000</td>\n",
       "      <td>1.200000</td>\n",
       "      <td>1.200000</td>\n",
       "      <td>1.000000</td>\n",
       "      <td>1.000000</td>\n",
       "      <td>130.000000</td>\n",
       "      <td>...</td>\n",
       "      <td>66.000000</td>\n",
       "      <td>136.000000</td>\n",
       "      <td>15.800000</td>\n",
       "      <td>1.000000</td>\n",
       "      <td>1.000000</td>\n",
       "      <td>28.000000</td>\n",
       "      <td>31.000000</td>\n",
       "      <td>43.000000</td>\n",
       "      <td>0.000000</td>\n",
       "      <td>1.000000</td>\n",
       "    </tr>\n",
       "    <tr>\n",
       "      <th>max</th>\n",
       "      <td>55691.000000</td>\n",
       "      <td>85.000000</td>\n",
       "      <td>190.000000</td>\n",
       "      <td>135.000000</td>\n",
       "      <td>129.000000</td>\n",
       "      <td>9.900000</td>\n",
       "      <td>9.900000</td>\n",
       "      <td>2.000000</td>\n",
       "      <td>2.000000</td>\n",
       "      <td>240.000000</td>\n",
       "      <td>...</td>\n",
       "      <td>618.000000</td>\n",
       "      <td>1860.000000</td>\n",
       "      <td>21.100000</td>\n",
       "      <td>6.000000</td>\n",
       "      <td>11.600000</td>\n",
       "      <td>1311.000000</td>\n",
       "      <td>2914.000000</td>\n",
       "      <td>999.000000</td>\n",
       "      <td>1.000000</td>\n",
       "      <td>1.000000</td>\n",
       "    </tr>\n",
       "  </tbody>\n",
       "</table>\n",
       "<p>8 rows × 24 columns</p>\n",
       "</div>"
      ],
      "text/plain": [
       "                 ID           age    height(cm)    weight(kg)     waist(cm)  \\\n",
       "count  55692.000000  55692.000000  55692.000000  55692.000000  55692.000000   \n",
       "mean   27845.500000     44.182917    164.649321     65.864936     82.046418   \n",
       "std    16077.039933     12.071418      9.194597     12.820306      9.274223   \n",
       "min        0.000000     20.000000    130.000000     30.000000     51.000000   \n",
       "25%    13922.750000     40.000000    160.000000     55.000000     76.000000   \n",
       "50%    27845.500000     40.000000    165.000000     65.000000     82.000000   \n",
       "75%    41768.250000     55.000000    170.000000     75.000000     88.000000   \n",
       "max    55691.000000     85.000000    190.000000    135.000000    129.000000   \n",
       "\n",
       "       eyesight(left)  eyesight(right)  hearing(left)  hearing(right)  \\\n",
       "count    55692.000000     55692.000000   55692.000000    55692.000000   \n",
       "mean         1.012623         1.007443       1.025587        1.026144   \n",
       "std          0.486873         0.485964       0.157902        0.159564   \n",
       "min          0.100000         0.100000       1.000000        1.000000   \n",
       "25%          0.800000         0.800000       1.000000        1.000000   \n",
       "50%          1.000000         1.000000       1.000000        1.000000   \n",
       "75%          1.200000         1.200000       1.000000        1.000000   \n",
       "max          9.900000         9.900000       2.000000        2.000000   \n",
       "\n",
       "           systolic  ...           HDL           LDL    hemoglobin  \\\n",
       "count  55692.000000  ...  55692.000000  55692.000000  55692.000000   \n",
       "mean     121.494218  ...     57.290347    114.964501     14.622592   \n",
       "std       13.675989  ...     14.738963     40.926476      1.564498   \n",
       "min       71.000000  ...      4.000000      1.000000      4.900000   \n",
       "25%      112.000000  ...     47.000000     92.000000     13.600000   \n",
       "50%      120.000000  ...     55.000000    113.000000     14.800000   \n",
       "75%      130.000000  ...     66.000000    136.000000     15.800000   \n",
       "max      240.000000  ...    618.000000   1860.000000     21.100000   \n",
       "\n",
       "       Urine protein  serum creatinine           AST           ALT  \\\n",
       "count   55692.000000      55692.000000  55692.000000  55692.000000   \n",
       "mean        1.087212          0.885738     26.182935     27.036037   \n",
       "std         0.404882          0.221524     19.355460     30.947853   \n",
       "min         1.000000          0.100000      6.000000      1.000000   \n",
       "25%         1.000000          0.800000     19.000000     15.000000   \n",
       "50%         1.000000          0.900000     23.000000     21.000000   \n",
       "75%         1.000000          1.000000     28.000000     31.000000   \n",
       "max         6.000000         11.600000   1311.000000   2914.000000   \n",
       "\n",
       "                Gtp  dental caries       smoking  \n",
       "count  55692.000000   55692.000000  55692.000000  \n",
       "mean      39.952201       0.213334      0.367288  \n",
       "std       50.290539       0.409665      0.482070  \n",
       "min        1.000000       0.000000      0.000000  \n",
       "25%       17.000000       0.000000      0.000000  \n",
       "50%       25.000000       0.000000      0.000000  \n",
       "75%       43.000000       0.000000      1.000000  \n",
       "max      999.000000       1.000000      1.000000  \n",
       "\n",
       "[8 rows x 24 columns]"
      ]
     },
     "execution_count": 50,
     "metadata": {},
     "output_type": "execute_result"
    }
   ],
   "source": [
    "df1.describe()"
   ]
  },
  {
   "cell_type": "code",
<<<<<<< HEAD
   "execution_count": 7,
=======
   "execution_count": 51,
>>>>>>> e09260cc58cba16ef9984c82a4ce0d3dbafc6c0b
   "id": "5a690fb7",
   "metadata": {
    "scrolled": false
   },
   "outputs": [
    {
     "name": "stdout",
     "output_type": "stream",
     "text": [
      "<class 'pandas.core.frame.DataFrame'>\n",
      "RangeIndex: 55692 entries, 0 to 55691\n",
      "Data columns (total 27 columns):\n",
      " #   Column               Non-Null Count  Dtype  \n",
      "---  ------               --------------  -----  \n",
      " 0   ID                   55692 non-null  int64  \n",
      " 1   gender               55692 non-null  object \n",
      " 2   age                  55692 non-null  int64  \n",
      " 3   height(cm)           55692 non-null  int64  \n",
      " 4   weight(kg)           55692 non-null  int64  \n",
      " 5   waist(cm)            55692 non-null  float64\n",
      " 6   eyesight(left)       55692 non-null  float64\n",
      " 7   eyesight(right)      55692 non-null  float64\n",
      " 8   hearing(left)        55692 non-null  float64\n",
      " 9   hearing(right)       55692 non-null  float64\n",
      " 10  systolic             55692 non-null  float64\n",
      " 11  relaxation           55692 non-null  float64\n",
      " 12  fasting blood sugar  55692 non-null  float64\n",
      " 13  Cholesterol          55692 non-null  float64\n",
      " 14  triglyceride         55692 non-null  float64\n",
      " 15  HDL                  55692 non-null  float64\n",
      " 16  LDL                  55692 non-null  float64\n",
      " 17  hemoglobin           55692 non-null  float64\n",
      " 18  Urine protein        55692 non-null  float64\n",
      " 19  serum creatinine     55692 non-null  float64\n",
      " 20  AST                  55692 non-null  float64\n",
      " 21  ALT                  55692 non-null  float64\n",
      " 22  Gtp                  55692 non-null  float64\n",
      " 23  oral                 55692 non-null  object \n",
      " 24  dental caries        55692 non-null  int64  \n",
      " 25  tartar               55692 non-null  object \n",
      " 26  smoking              55692 non-null  int64  \n",
      "dtypes: float64(18), int64(6), object(3)\n",
      "memory usage: 11.5+ MB\n"
     ]
    }
   ],
   "source": [
    "df1.info()"
   ]
  },
  {
   "cell_type": "code",
<<<<<<< HEAD
   "execution_count": 8,
=======
   "execution_count": 52,
>>>>>>> e09260cc58cba16ef9984c82a4ce0d3dbafc6c0b
   "id": "af5d548a",
   "metadata": {},
   "outputs": [
    {
     "data": {
      "text/plain": [
       "ID                     0\n",
       "gender                 0\n",
       "age                    0\n",
       "height(cm)             0\n",
       "weight(kg)             0\n",
       "waist(cm)              0\n",
       "eyesight(left)         0\n",
       "eyesight(right)        0\n",
       "hearing(left)          0\n",
       "hearing(right)         0\n",
       "systolic               0\n",
       "relaxation             0\n",
       "fasting blood sugar    0\n",
       "Cholesterol            0\n",
       "triglyceride           0\n",
       "HDL                    0\n",
       "LDL                    0\n",
       "hemoglobin             0\n",
       "Urine protein          0\n",
       "serum creatinine       0\n",
       "AST                    0\n",
       "ALT                    0\n",
       "Gtp                    0\n",
       "oral                   0\n",
       "dental caries          0\n",
       "tartar                 0\n",
       "smoking                0\n",
       "dtype: int64"
      ]
     },
<<<<<<< HEAD
     "execution_count": 8,
=======
     "execution_count": 52,
>>>>>>> e09260cc58cba16ef9984c82a4ce0d3dbafc6c0b
     "metadata": {},
     "output_type": "execute_result"
    }
   ],
   "source": [
    "df1.isnull().sum()"
   ]
  },
  {
   "cell_type": "markdown",
   "id": "fbb50dfc",
   "metadata": {},
   "source": [
    "### Observations:\n",
    "- Tuổi nhỏ nhất là 20, nhưng chiều cao nhỏ nhất lại là 130cm, điều này là vô lí\n",
    "- Dataset không có missing value\n",
    "- Có các cột dữ liệu có kiểu dữ liệu không hợp lí\n",
    "\n"
   ]
  },
  {
   "cell_type": "code",
<<<<<<< HEAD
   "execution_count": 9,
=======
   "execution_count": 53,
>>>>>>> e09260cc58cba16ef9984c82a4ce0d3dbafc6c0b
   "id": "3896fb1e",
   "metadata": {},
   "outputs": [],
   "source": [
    "#FILL IN"
   ]
  },
  {
   "cell_type": "markdown",
   "id": "abace16c",
   "metadata": {},
   "source": [
    "### 3. Clean data\n",
    "- Nguyễn Văn Trung"
   ]
  },
  {
   "cell_type": "markdown",
   "id": "f0cdd3df",
   "metadata": {},
   "source": [
    "### Issue 1:"
   ]
  },
  {
   "cell_type": "code",
<<<<<<< HEAD
   "execution_count": 10,
=======
   "execution_count": 54,
>>>>>>> e09260cc58cba16ef9984c82a4ce0d3dbafc6c0b
   "id": "1750dee3",
   "metadata": {},
   "outputs": [],
   "source": [
    "# Chuyển đổi các cột có định dạng không phù hợp\n",
    "df1['age'] = df1['age'].astype(int)\n",
    "df1['height(cm)'] = df1['height(cm)'].astype(float)\n",
    "df1['weight(kg)'] = df1['weight(kg)'].astype(float)\n",
    "df1['waist(cm)'] = df1['waist(cm)'].astype(float)"
   ]
  },
  {
   "cell_type": "code",
<<<<<<< HEAD
   "execution_count": 11,
   "id": "ee22edc8",
   "metadata": {},
   "outputs": [],
   "source": [
    "# Thêm cột BMI\n",
    "df1['BMI'] = df1['weight(kg)'] / (df1['height(cm)'] / 100) ** 2"
   ]
  },
  {
   "cell_type": "code",
   "execution_count": 12,
=======
   "execution_count": 55,
>>>>>>> e09260cc58cba16ef9984c82a4ce0d3dbafc6c0b
   "id": "0833f34f",
   "metadata": {},
   "outputs": [
    {
     "name": "stdout",
     "output_type": "stream",
     "text": [
      "20 85\n",
      "130.0 190.0\n"
     ]
    }
   ],
   "source": [
    "# Kiểm tra độ tuổi\n",
    "print(df1['age'].min(), df1['age'].max())\n",
    "\n",
    "# Kiểm tra chiều cao\n",
    "print(df1['height(cm)'].min(), df1['height(cm)'].max())\n"
   ]
  },
  {
   "cell_type": "code",
<<<<<<< HEAD
   "execution_count": 13,
=======
   "execution_count": 115,
>>>>>>> e09260cc58cba16ef9984c82a4ce0d3dbafc6c0b
   "id": "e0881ba3",
   "metadata": {},
   "outputs": [
    {
     "data": {
      "text/html": [
       "<div>\n",
       "<style scoped>\n",
       "    .dataframe tbody tr th:only-of-type {\n",
       "        vertical-align: middle;\n",
       "    }\n",
       "\n",
       "    .dataframe tbody tr th {\n",
       "        vertical-align: top;\n",
       "    }\n",
       "\n",
       "    .dataframe thead th {\n",
       "        text-align: right;\n",
       "    }\n",
       "</style>\n",
       "<table border=\"1\" class=\"dataframe\">\n",
       "  <thead>\n",
       "    <tr style=\"text-align: right;\">\n",
       "      <th></th>\n",
       "      <th>ID</th>\n",
       "      <th>gender</th>\n",
       "      <th>age</th>\n",
       "      <th>height(cm)</th>\n",
       "      <th>weight(kg)</th>\n",
       "      <th>waist(cm)</th>\n",
       "      <th>eyesight(left)</th>\n",
       "      <th>eyesight(right)</th>\n",
       "      <th>hearing(left)</th>\n",
       "      <th>hearing(right)</th>\n",
       "      <th>...</th>\n",
       "      <th>Urine protein</th>\n",
       "      <th>serum creatinine</th>\n",
       "      <th>AST</th>\n",
       "      <th>ALT</th>\n",
       "      <th>Gtp</th>\n",
       "      <th>oral</th>\n",
       "      <th>dental caries</th>\n",
       "      <th>tartar</th>\n",
       "      <th>smoking</th>\n",
       "      <th>BMI</th>\n",
       "    </tr>\n",
       "  </thead>\n",
       "  <tbody>\n",
       "    <tr>\n",
       "      <th>0</th>\n",
       "      <td>0</td>\n",
       "      <td>F</td>\n",
       "      <td>40</td>\n",
       "      <td>155.0</td>\n",
       "      <td>60.0</td>\n",
       "      <td>81.3</td>\n",
       "      <td>1.2</td>\n",
       "      <td>1.0</td>\n",
       "      <td>1.0</td>\n",
       "      <td>1.0</td>\n",
       "      <td>...</td>\n",
       "      <td>1.0</td>\n",
       "      <td>0.7</td>\n",
       "      <td>18.0</td>\n",
       "      <td>19.0</td>\n",
       "      <td>27.0</td>\n",
       "      <td>Y</td>\n",
       "      <td>0</td>\n",
       "      <td>Y</td>\n",
       "      <td>0</td>\n",
       "      <td>24.973985</td>\n",
       "    </tr>\n",
       "    <tr>\n",
       "      <th>1</th>\n",
       "      <td>1</td>\n",
       "      <td>F</td>\n",
       "      <td>40</td>\n",
       "      <td>160.0</td>\n",
       "      <td>60.0</td>\n",
       "      <td>81.0</td>\n",
       "      <td>0.8</td>\n",
       "      <td>0.6</td>\n",
       "      <td>1.0</td>\n",
       "      <td>1.0</td>\n",
       "      <td>...</td>\n",
       "      <td>1.0</td>\n",
       "      <td>0.6</td>\n",
       "      <td>22.0</td>\n",
       "      <td>19.0</td>\n",
       "      <td>18.0</td>\n",
       "      <td>Y</td>\n",
       "      <td>0</td>\n",
       "      <td>Y</td>\n",
       "      <td>0</td>\n",
       "      <td>23.437500</td>\n",
       "    </tr>\n",
       "    <tr>\n",
       "      <th>2</th>\n",
       "      <td>2</td>\n",
       "      <td>M</td>\n",
       "      <td>55</td>\n",
       "      <td>170.0</td>\n",
       "      <td>60.0</td>\n",
       "      <td>80.0</td>\n",
       "      <td>0.8</td>\n",
       "      <td>0.8</td>\n",
       "      <td>1.0</td>\n",
       "      <td>1.0</td>\n",
       "      <td>...</td>\n",
       "      <td>1.0</td>\n",
       "      <td>1.0</td>\n",
       "      <td>21.0</td>\n",
       "      <td>16.0</td>\n",
       "      <td>22.0</td>\n",
       "      <td>Y</td>\n",
       "      <td>0</td>\n",
       "      <td>N</td>\n",
       "      <td>1</td>\n",
       "      <td>20.761246</td>\n",
       "    </tr>\n",
       "    <tr>\n",
       "      <th>3</th>\n",
       "      <td>3</td>\n",
       "      <td>M</td>\n",
       "      <td>40</td>\n",
       "      <td>165.0</td>\n",
       "      <td>70.0</td>\n",
       "      <td>88.0</td>\n",
       "      <td>1.5</td>\n",
       "      <td>1.5</td>\n",
       "      <td>1.0</td>\n",
       "      <td>1.0</td>\n",
       "      <td>...</td>\n",
       "      <td>1.0</td>\n",
       "      <td>1.0</td>\n",
       "      <td>19.0</td>\n",
       "      <td>26.0</td>\n",
       "      <td>18.0</td>\n",
       "      <td>Y</td>\n",
       "      <td>0</td>\n",
       "      <td>Y</td>\n",
       "      <td>0</td>\n",
       "      <td>25.711662</td>\n",
       "    </tr>\n",
       "    <tr>\n",
       "      <th>4</th>\n",
       "      <td>4</td>\n",
       "      <td>F</td>\n",
       "      <td>40</td>\n",
       "      <td>155.0</td>\n",
       "      <td>60.0</td>\n",
       "      <td>86.0</td>\n",
       "      <td>1.0</td>\n",
       "      <td>1.0</td>\n",
       "      <td>1.0</td>\n",
       "      <td>1.0</td>\n",
       "      <td>...</td>\n",
       "      <td>1.0</td>\n",
       "      <td>0.6</td>\n",
       "      <td>16.0</td>\n",
       "      <td>14.0</td>\n",
       "      <td>22.0</td>\n",
       "      <td>Y</td>\n",
       "      <td>0</td>\n",
       "      <td>N</td>\n",
       "      <td>0</td>\n",
       "      <td>24.973985</td>\n",
       "    </tr>\n",
       "    <tr>\n",
       "      <th>...</th>\n",
       "      <td>...</td>\n",
       "      <td>...</td>\n",
       "      <td>...</td>\n",
       "      <td>...</td>\n",
       "      <td>...</td>\n",
       "      <td>...</td>\n",
       "      <td>...</td>\n",
       "      <td>...</td>\n",
       "      <td>...</td>\n",
       "      <td>...</td>\n",
       "      <td>...</td>\n",
       "      <td>...</td>\n",
       "      <td>...</td>\n",
       "      <td>...</td>\n",
       "      <td>...</td>\n",
       "      <td>...</td>\n",
       "      <td>...</td>\n",
       "      <td>...</td>\n",
       "      <td>...</td>\n",
       "      <td>...</td>\n",
       "      <td>...</td>\n",
       "    </tr>\n",
       "    <tr>\n",
       "      <th>55687</th>\n",
       "      <td>55676</td>\n",
       "      <td>F</td>\n",
       "      <td>40</td>\n",
       "      <td>170.0</td>\n",
       "      <td>65.0</td>\n",
       "      <td>75.0</td>\n",
       "      <td>0.9</td>\n",
       "      <td>0.9</td>\n",
       "      <td>1.0</td>\n",
       "      <td>1.0</td>\n",
       "      <td>...</td>\n",
       "      <td>1.0</td>\n",
       "      <td>0.6</td>\n",
       "      <td>14.0</td>\n",
       "      <td>7.0</td>\n",
       "      <td>10.0</td>\n",
       "      <td>Y</td>\n",
       "      <td>1</td>\n",
       "      <td>Y</td>\n",
       "      <td>0</td>\n",
       "      <td>22.491349</td>\n",
       "    </tr>\n",
       "    <tr>\n",
       "      <th>55688</th>\n",
       "      <td>55681</td>\n",
       "      <td>F</td>\n",
       "      <td>45</td>\n",
       "      <td>160.0</td>\n",
       "      <td>50.0</td>\n",
       "      <td>70.0</td>\n",
       "      <td>1.2</td>\n",
       "      <td>1.2</td>\n",
       "      <td>1.0</td>\n",
       "      <td>1.0</td>\n",
       "      <td>...</td>\n",
       "      <td>1.0</td>\n",
       "      <td>0.9</td>\n",
       "      <td>20.0</td>\n",
       "      <td>12.0</td>\n",
       "      <td>14.0</td>\n",
       "      <td>Y</td>\n",
       "      <td>0</td>\n",
       "      <td>Y</td>\n",
       "      <td>0</td>\n",
       "      <td>19.531250</td>\n",
       "    </tr>\n",
       "    <tr>\n",
       "      <th>55689</th>\n",
       "      <td>55683</td>\n",
       "      <td>F</td>\n",
       "      <td>55</td>\n",
       "      <td>160.0</td>\n",
       "      <td>50.0</td>\n",
       "      <td>68.5</td>\n",
       "      <td>1.0</td>\n",
       "      <td>1.2</td>\n",
       "      <td>1.0</td>\n",
       "      <td>1.0</td>\n",
       "      <td>...</td>\n",
       "      <td>1.0</td>\n",
       "      <td>0.5</td>\n",
       "      <td>17.0</td>\n",
       "      <td>11.0</td>\n",
       "      <td>12.0</td>\n",
       "      <td>Y</td>\n",
       "      <td>0</td>\n",
       "      <td>N</td>\n",
       "      <td>0</td>\n",
       "      <td>19.531250</td>\n",
       "    </tr>\n",
       "    <tr>\n",
       "      <th>55690</th>\n",
       "      <td>55684</td>\n",
       "      <td>M</td>\n",
       "      <td>60</td>\n",
       "      <td>165.0</td>\n",
       "      <td>60.0</td>\n",
       "      <td>78.0</td>\n",
       "      <td>0.8</td>\n",
       "      <td>1.0</td>\n",
       "      <td>1.0</td>\n",
       "      <td>1.0</td>\n",
       "      <td>...</td>\n",
       "      <td>1.0</td>\n",
       "      <td>0.7</td>\n",
       "      <td>20.0</td>\n",
       "      <td>19.0</td>\n",
       "      <td>18.0</td>\n",
       "      <td>Y</td>\n",
       "      <td>0</td>\n",
       "      <td>N</td>\n",
       "      <td>0</td>\n",
       "      <td>22.038567</td>\n",
       "    </tr>\n",
       "    <tr>\n",
       "      <th>55691</th>\n",
       "      <td>55691</td>\n",
       "      <td>M</td>\n",
       "      <td>55</td>\n",
       "      <td>160.0</td>\n",
       "      <td>65.0</td>\n",
       "      <td>85.0</td>\n",
       "      <td>0.9</td>\n",
       "      <td>0.7</td>\n",
       "      <td>1.0</td>\n",
       "      <td>1.0</td>\n",
       "      <td>...</td>\n",
       "      <td>1.0</td>\n",
       "      <td>0.8</td>\n",
       "      <td>26.0</td>\n",
       "      <td>29.0</td>\n",
       "      <td>41.0</td>\n",
       "      <td>Y</td>\n",
       "      <td>0</td>\n",
       "      <td>Y</td>\n",
       "      <td>1</td>\n",
       "      <td>25.390625</td>\n",
       "    </tr>\n",
       "  </tbody>\n",
       "</table>\n",
       "<p>54244 rows × 28 columns</p>\n",
       "</div>"
      ],
      "text/plain": [
       "          ID gender  age  height(cm)  weight(kg)  waist(cm)  eyesight(left)  \\\n",
       "0          0      F   40       155.0        60.0       81.3             1.2   \n",
       "1          1      F   40       160.0        60.0       81.0             0.8   \n",
       "2          2      M   55       170.0        60.0       80.0             0.8   \n",
       "3          3      M   40       165.0        70.0       88.0             1.5   \n",
       "4          4      F   40       155.0        60.0       86.0             1.0   \n",
       "...      ...    ...  ...         ...         ...        ...             ...   \n",
       "55687  55676      F   40       170.0        65.0       75.0             0.9   \n",
       "55688  55681      F   45       160.0        50.0       70.0             1.2   \n",
       "55689  55683      F   55       160.0        50.0       68.5             1.0   \n",
       "55690  55684      M   60       165.0        60.0       78.0             0.8   \n",
       "55691  55691      M   55       160.0        65.0       85.0             0.9   \n",
       "\n",
       "       eyesight(right)  hearing(left)  hearing(right)  ...  Urine protein  \\\n",
       "0                  1.0            1.0             1.0  ...            1.0   \n",
       "1                  0.6            1.0             1.0  ...            1.0   \n",
       "2                  0.8            1.0             1.0  ...            1.0   \n",
       "3                  1.5            1.0             1.0  ...            1.0   \n",
       "4                  1.0            1.0             1.0  ...            1.0   \n",
       "...                ...            ...             ...  ...            ...   \n",
       "55687              0.9            1.0             1.0  ...            1.0   \n",
       "55688              1.2            1.0             1.0  ...            1.0   \n",
       "55689              1.2            1.0             1.0  ...            1.0   \n",
       "55690              1.0            1.0             1.0  ...            1.0   \n",
       "55691              0.7            1.0             1.0  ...            1.0   \n",
       "\n",
       "       serum creatinine   AST   ALT   Gtp  oral  dental caries  tartar  \\\n",
       "0                   0.7  18.0  19.0  27.0     Y              0       Y   \n",
       "1                   0.6  22.0  19.0  18.0     Y              0       Y   \n",
       "2                   1.0  21.0  16.0  22.0     Y              0       N   \n",
       "3                   1.0  19.0  26.0  18.0     Y              0       Y   \n",
       "4                   0.6  16.0  14.0  22.0     Y              0       N   \n",
       "...                 ...   ...   ...   ...   ...            ...     ...   \n",
       "55687               0.6  14.0   7.0  10.0     Y              1       Y   \n",
       "55688               0.9  20.0  12.0  14.0     Y              0       Y   \n",
       "55689               0.5  17.0  11.0  12.0     Y              0       N   \n",
       "55690               0.7  20.0  19.0  18.0     Y              0       N   \n",
       "55691               0.8  26.0  29.0  41.0     Y              0       Y   \n",
       "\n",
       "       smoking        BMI  \n",
       "0            0  24.973985  \n",
       "1            0  23.437500  \n",
       "2            1  20.761246  \n",
       "3            0  25.711662  \n",
       "4            0  24.973985  \n",
       "...        ...        ...  \n",
       "55687        0  22.491349  \n",
       "55688        0  19.531250  \n",
       "55689        0  19.531250  \n",
       "55690        0  22.038567  \n",
       "55691        1  25.390625  \n",
       "\n",
       "[54244 rows x 28 columns]"
      ]
     },
     "execution_count": 115,
     "metadata": {},
     "output_type": "execute_result"
    }
   ],
   "source": [
    "# Loại bỏ các giá trị không hợp lý\n",
    "df1[(df1['age'] >= 18) & (df1['age'] <= 100) & (df1['height(cm)'] >= 150) & (df1['height(cm)'] <= 220)]"
   ]
  },
  {
   "cell_type": "code",
   "execution_count": 116,
   "id": "aab781d6",
   "metadata": {},
   "outputs": [],
   "source": [
    "#tao ban sao\n",
    "df_clean = df1.copy()"
   ]
  },
  {
   "cell_type": "code",
   "execution_count": 117,
   "id": "3c6cdfc4",
   "metadata": {},
   "outputs": [],
   "source": [
    "df_clean.to_csv(\"smoking_copy.csv\")"
   ]
  },
  {
   "cell_type": "markdown",
   "id": "5635db7f",
   "metadata": {},
   "source": [
    "### Remove unnecessary variables and combine datasets if needed\n",
    "- Nguyễn Văn Trung"
   ]
  },
  {
   "cell_type": "code",
   "execution_count": 14,
   "id": "ad6f9dcb",
   "metadata": {},
   "outputs": [],
   "source": [
    "df2 = df2.drop(columns=['zip'])"
   ]
  },
  {
   "cell_type": "code",
   "execution_count": 15,
   "id": "a04e3cf1",
   "metadata": {},
   "outputs": [],
   "source": [
    "df1 = df1.drop(columns=['oral'])"
   ]
  },
  {
   "cell_type": "code",
   "execution_count": 16,
   "id": "6ba3eb89",
   "metadata": {},
   "outputs": [],
   "source": [
    "df1 = df1.drop(columns=['hemoglobin'])"
   ]
  },
  {
   "cell_type": "code",
   "execution_count": null,
   "id": "2832b0d0",
   "metadata": {},
   "outputs": [],
   "source": []
  },
  {
   "cell_type": "markdown",
   "id": "5884a066",
   "metadata": {},
   "source": [
    "### Merge file\n",
    "- Nguyễn Lê Như Nghĩa"
   ]
  },
  {
   "cell_type": "code",
   "execution_count": 200,
   "id": "f93cec79",
   "metadata": {},
   "outputs": [],
   "source": [
    "# Đọc hai file CSV\n",
    "df1 = pd.read_csv('smoking.csv')\n",
    "df2 = pd.read_csv('list_of_real_usa_addresses.csv')\n",
    "\n",
    "# Gộp hai DataFrame lại với nhau theo cột\n",
    "merged_df = pd.concat([df1, df2], axis=1)\n",
    "\n",
    "# Lưu DataFrame đã gộp thành file CSV mới\n",
    "merged_df.to_csv('merged_file.csv', index=False)"
   ]
  },
  {
   "cell_type": "code",
   "execution_count": 201,
   "id": "ad394d28",
   "metadata": {},
   "outputs": [
    {
     "data": {
      "text/html": [
       "<div>\n",
       "<style scoped>\n",
       "    .dataframe tbody tr th:only-of-type {\n",
       "        vertical-align: middle;\n",
       "    }\n",
       "\n",
       "    .dataframe tbody tr th {\n",
       "        vertical-align: top;\n",
       "    }\n",
       "\n",
       "    .dataframe thead th {\n",
       "        text-align: right;\n",
       "    }\n",
       "</style>\n",
       "<table border=\"1\" class=\"dataframe\">\n",
       "  <thead>\n",
       "    <tr style=\"text-align: right;\">\n",
       "      <th></th>\n",
       "      <th>ID</th>\n",
       "      <th>gender</th>\n",
       "      <th>age</th>\n",
       "      <th>height(cm)</th>\n",
       "      <th>weight(kg)</th>\n",
       "      <th>waist(cm)</th>\n",
       "      <th>eyesight(left)</th>\n",
       "      <th>eyesight(right)</th>\n",
       "      <th>hearing(left)</th>\n",
       "      <th>hearing(right)</th>\n",
       "      <th>...</th>\n",
       "      <th>ALT</th>\n",
       "      <th>Gtp</th>\n",
       "      <th>oral</th>\n",
       "      <th>dental caries</th>\n",
       "      <th>tartar</th>\n",
       "      <th>smoking</th>\n",
       "      <th>address</th>\n",
       "      <th>city</th>\n",
       "      <th>state</th>\n",
       "      <th>zip</th>\n",
       "    </tr>\n",
       "  </thead>\n",
       "  <tbody>\n",
       "    <tr>\n",
       "      <th>0</th>\n",
       "      <td>0</td>\n",
       "      <td>F</td>\n",
       "      <td>40</td>\n",
       "      <td>155</td>\n",
       "      <td>60</td>\n",
       "      <td>81.3</td>\n",
       "      <td>1.2</td>\n",
       "      <td>1.0</td>\n",
       "      <td>1.0</td>\n",
       "      <td>1.0</td>\n",
       "      <td>...</td>\n",
       "      <td>19.0</td>\n",
       "      <td>27.0</td>\n",
       "      <td>Y</td>\n",
       "      <td>0</td>\n",
       "      <td>Y</td>\n",
       "      <td>0</td>\n",
       "      <td>777 Brockton Avenue</td>\n",
       "      <td>Abington</td>\n",
       "      <td>MA</td>\n",
       "      <td>2351.0</td>\n",
       "    </tr>\n",
       "    <tr>\n",
       "      <th>1</th>\n",
       "      <td>1</td>\n",
       "      <td>F</td>\n",
       "      <td>40</td>\n",
       "      <td>160</td>\n",
       "      <td>60</td>\n",
       "      <td>81.0</td>\n",
       "      <td>0.8</td>\n",
       "      <td>0.6</td>\n",
       "      <td>1.0</td>\n",
       "      <td>1.0</td>\n",
       "      <td>...</td>\n",
       "      <td>19.0</td>\n",
       "      <td>18.0</td>\n",
       "      <td>Y</td>\n",
       "      <td>0</td>\n",
       "      <td>Y</td>\n",
       "      <td>0</td>\n",
       "      <td>30 Memorial Drive</td>\n",
       "      <td>Avon</td>\n",
       "      <td>MA</td>\n",
       "      <td>2322.0</td>\n",
       "    </tr>\n",
       "    <tr>\n",
       "      <th>2</th>\n",
       "      <td>2</td>\n",
       "      <td>M</td>\n",
       "      <td>55</td>\n",
       "      <td>170</td>\n",
       "      <td>60</td>\n",
       "      <td>80.0</td>\n",
       "      <td>0.8</td>\n",
       "      <td>0.8</td>\n",
       "      <td>1.0</td>\n",
       "      <td>1.0</td>\n",
       "      <td>...</td>\n",
       "      <td>16.0</td>\n",
       "      <td>22.0</td>\n",
       "      <td>Y</td>\n",
       "      <td>0</td>\n",
       "      <td>N</td>\n",
       "      <td>1</td>\n",
       "      <td>250 Hartford Avenue</td>\n",
       "      <td>Bellingham</td>\n",
       "      <td>MA</td>\n",
       "      <td>2019.0</td>\n",
       "    </tr>\n",
       "    <tr>\n",
       "      <th>3</th>\n",
       "      <td>3</td>\n",
       "      <td>M</td>\n",
       "      <td>40</td>\n",
       "      <td>165</td>\n",
       "      <td>70</td>\n",
       "      <td>88.0</td>\n",
       "      <td>1.5</td>\n",
       "      <td>1.5</td>\n",
       "      <td>1.0</td>\n",
       "      <td>1.0</td>\n",
       "      <td>...</td>\n",
       "      <td>26.0</td>\n",
       "      <td>18.0</td>\n",
       "      <td>Y</td>\n",
       "      <td>0</td>\n",
       "      <td>Y</td>\n",
       "      <td>0</td>\n",
       "      <td>700 Oak Street</td>\n",
       "      <td>Brockton</td>\n",
       "      <td>MA</td>\n",
       "      <td>2301.0</td>\n",
       "    </tr>\n",
       "    <tr>\n",
       "      <th>4</th>\n",
       "      <td>4</td>\n",
       "      <td>F</td>\n",
       "      <td>40</td>\n",
       "      <td>155</td>\n",
       "      <td>60</td>\n",
       "      <td>86.0</td>\n",
       "      <td>1.0</td>\n",
       "      <td>1.0</td>\n",
       "      <td>1.0</td>\n",
       "      <td>1.0</td>\n",
       "      <td>...</td>\n",
       "      <td>14.0</td>\n",
       "      <td>22.0</td>\n",
       "      <td>Y</td>\n",
       "      <td>0</td>\n",
       "      <td>N</td>\n",
       "      <td>0</td>\n",
       "      <td>66-4 Parkhurst Rd</td>\n",
       "      <td>Chelmsford</td>\n",
       "      <td>MA</td>\n",
       "      <td>1824.0</td>\n",
       "    </tr>\n",
       "  </tbody>\n",
       "</table>\n",
       "<p>5 rows × 31 columns</p>\n",
       "</div>"
      ],
      "text/plain": [
       "   ID gender  age  height(cm)  weight(kg)  waist(cm)  eyesight(left)  \\\n",
       "0   0      F   40         155          60       81.3             1.2   \n",
       "1   1      F   40         160          60       81.0             0.8   \n",
       "2   2      M   55         170          60       80.0             0.8   \n",
       "3   3      M   40         165          70       88.0             1.5   \n",
       "4   4      F   40         155          60       86.0             1.0   \n",
       "\n",
       "   eyesight(right)  hearing(left)  hearing(right)  ...   ALT   Gtp  oral  \\\n",
       "0              1.0            1.0             1.0  ...  19.0  27.0     Y   \n",
       "1              0.6            1.0             1.0  ...  19.0  18.0     Y   \n",
       "2              0.8            1.0             1.0  ...  16.0  22.0     Y   \n",
       "3              1.5            1.0             1.0  ...  26.0  18.0     Y   \n",
       "4              1.0            1.0             1.0  ...  14.0  22.0     Y   \n",
       "\n",
       "   dental caries  tartar  smoking              address        city  state  \\\n",
       "0              0       Y        0  777 Brockton Avenue    Abington     MA   \n",
       "1              0       Y        0    30 Memorial Drive        Avon     MA   \n",
       "2              0       N        1  250 Hartford Avenue  Bellingham     MA   \n",
       "3              0       Y        0       700 Oak Street    Brockton     MA   \n",
       "4              0       N        0    66-4 Parkhurst Rd  Chelmsford     MA   \n",
       "\n",
       "      zip  \n",
       "0  2351.0  \n",
       "1  2322.0  \n",
       "2  2019.0  \n",
       "3  2301.0  \n",
       "4  1824.0  \n",
       "\n",
       "[5 rows x 31 columns]"
      ]
     },
     "execution_count": 201,
     "metadata": {},
     "output_type": "execute_result"
    }
   ],
   "source": [
    "merged_df.head(5)"
   ]
  },
  {
   "cell_type": "markdown",
   "id": "bdbe334d",
   "metadata": {},
   "source": [
    "## Answer the research question"
   ]
  },
  {
   "cell_type": "markdown",
   "id": "8d1bb8e9",
   "metadata": {},
   "source": [
    "Question 1: Việc hút thuốc ảnh hưởng như thế nào đến chỉ số huyết áp (tâm thu và tâm trương)?\n",
    "- Nguyễn Văn Trung"
   ]
  },
  {
   "cell_type": "code",
<<<<<<< HEAD
   "execution_count": 17,
=======
   "execution_count": 95,
>>>>>>> e09260cc58cba16ef9984c82a4ce0d3dbafc6c0b
   "id": "05bcf3a6",
   "metadata": {},
   "outputs": [],
   "source": [
    "# Lọc dữ liệu cho nhóm không hút thuốc\n",
    "non_smokers = df_clean[df_clean['smoking'] == 0]\n",
    "non_smokers_bp = non_smokers[['systolic', 'relaxation']]"
   ]
  },
  {
   "cell_type": "code",
<<<<<<< HEAD
   "execution_count": 18,
=======
   "execution_count": 96,
>>>>>>> e09260cc58cba16ef9984c82a4ce0d3dbafc6c0b
   "id": "19bca4cb",
   "metadata": {},
   "outputs": [],
   "source": [
    "# Lọc dữ liệu cho nhóm hút thuốc\n",
    "smokers = df_clean[df_clean['smoking'] == 1]\n",
    "smokers_bp = smokers[['systolic', 'relaxation']]"
   ]
  },
  {
   "cell_type": "code",
<<<<<<< HEAD
   "execution_count": 19,
=======
   "execution_count": 97,
>>>>>>> e09260cc58cba16ef9984c82a4ce0d3dbafc6c0b
   "id": "c6d176cf",
   "metadata": {},
   "outputs": [],
   "source": [
    "# Tính giá trị trung bình huyết áp cho cả hai nhóm\n",
    "mean_non_smokers_bp = non_smokers_bp.mean()\n",
    "mean_smokers_bp = smokers_bp.mean()"
   ]
  },
  {
   "cell_type": "code",
<<<<<<< HEAD
   "execution_count": 20,
=======
   "execution_count": 98,
>>>>>>> e09260cc58cba16ef9984c82a4ce0d3dbafc6c0b
   "id": "97fb7908",
   "metadata": {},
   "outputs": [
    {
     "data": {
<<<<<<< HEAD
      "image/png": "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",
=======
      "image/png": "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",
>>>>>>> e09260cc58cba16ef9984c82a4ce0d3dbafc6c0b
      "text/plain": [
       "<Figure size 1000x600 with 1 Axes>"
      ]
     },
     "metadata": {},
     "output_type": "display_data"
    }
   ],
   "source": [
    "# Vẽ biểu đồ so sánh huyết áp giữa hai nhóm\n",
    "plt.figure(figsize=(10, 6))\n",
    "plt.bar(['Non-smokers', 'Smokers'], mean_non_smokers_bp, label='Non-Smokers')\n",
    "plt.bar(['Non-smokers', 'Smokers'], mean_smokers_bp, label='Smokers')\n",
    "plt.xlabel('Nhóm người')\n",
    "plt.ylabel('Huyết áp')\n",
    "plt.title('So sánh huyết áp người hút thuốc và không hút thuốc')\n",
    "#plt.legend()\n",
    "plt.show()"
   ]
  },
  {
   "cell_type": "markdown",
<<<<<<< HEAD
   "id": "903f5c21",
=======
   "id": "de7bfd15",
>>>>>>> e09260cc58cba16ef9984c82a4ce0d3dbafc6c0b
   "metadata": {},
   "source": [
    "Justifications question 1: Người hút thuốc có chỉ số huyết áp thấp hơn (ở dưới mức bình thường) so với người không hút thuốc lá.\n",
    "+ Người hút thuốc: 80\n",
    "+ Người không hút thuốc: 120"
   ]
  },
  {
   "cell_type": "markdown",
   "id": "9d02dc8b",
   "metadata": {},
   "source": [
    "Question 2:   Những người hút thuốc có chỉ số BMI (Body Mass Index) khác biệt so với những người không hút thuốc không?\n",
    "- Nguyễn Văn Trung"
   ]
  },
  {
   "cell_type": "code",
<<<<<<< HEAD
   "execution_count": 21,
=======
   "execution_count": 99,
>>>>>>> e09260cc58cba16ef9984c82a4ce0d3dbafc6c0b
   "id": "5db84993",
   "metadata": {},
   "outputs": [
    {
     "name": "stdout",
     "output_type": "stream",
     "text": [
      "smoking\n",
      "0    23.858989\n",
      "1    24.655582\n",
      "Name: BMI, dtype: float64\n"
     ]
    }
   ],
   "source": [
    "# Tính toán giá trị trung bình của BMI cho người hút thuốc và không hút thuốc\n",
    "bmi_by_smoking = df_clean.groupby('smoking')['BMI'].mean()\n",
    "print(bmi_by_smoking)"
   ]
  },
  {
   "cell_type": "code",
<<<<<<< HEAD
   "execution_count": 22,
=======
   "execution_count": 100,
>>>>>>> e09260cc58cba16ef9984c82a4ce0d3dbafc6c0b
   "id": "0d651187",
   "metadata": {},
   "outputs": [
    {
     "data": {
      "image/png": "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",
      "text/plain": [
       "<Figure size 800x600 with 1 Axes>"
      ]
     },
     "metadata": {},
     "output_type": "display_data"
    }
   ],
   "source": [
    "# Vẽ biểu đồ so sánh chỉ số BMI giữa người hút thuốc và không hút thuốc\n",
    "plt.figure(figsize=(8, 6))\n",
    "sns.barplot(x=bmi_by_smoking.index, y=bmi_by_smoking.values)\n",
    "plt.xlabel('Smoking')\n",
    "plt.ylabel('Average BMI')\n",
    "plt.title('Average BMI of Smokers vs Non-Smokers')\n",
    "plt.xticks([0, 1], ['Non-Smokers', 'Smokers'])\n",
    "plt.show()"
   ]
  },
  {
   "cell_type": "markdown",
<<<<<<< HEAD
   "id": "1e5dc75b",
=======
   "id": "313c0826",
>>>>>>> e09260cc58cba16ef9984c82a4ce0d3dbafc6c0b
   "metadata": {},
   "source": [
    "Justifications question 2: Về chỉ số cơ thể BMI thì không có sự chênh lệch quá nhiều giữa người hút thuốc là và không hút thuốc lá"
   ]
  },
  {
   "cell_type": "markdown",
   "id": "6703f614",
   "metadata": {},
   "source": [
    "Question 3:  Việc hút thuốc có ảnh hưởng đến các chỉ số men gan (AST, ALT, Gtp) không?\n",
    "- Hoàng Văn Tùng"
   ]
  },
  {
   "cell_type": "code",
<<<<<<< HEAD
   "execution_count": 23,
=======
   "execution_count": 101,
>>>>>>> e09260cc58cba16ef9984c82a4ce0d3dbafc6c0b
   "id": "94153d0e",
   "metadata": {},
   "outputs": [
    {
     "name": "stdout",
     "output_type": "stream",
     "text": [
      "               AST        ALT        Gtp\n",
      "smoking                                 \n",
      "0        25.204653  24.743881  31.009903\n",
      "1        27.695778  31.009208  55.573276\n"
     ]
    }
   ],
   "source": [
    "# Tính toán giá trị trung bình của AST, ALT, Gtp cho người hút thuốc và không hút thuốc\n",
    "liver_enzymes = df_clean.groupby('smoking')[['AST', 'ALT', 'Gtp']].mean()\n",
    "\n",
    "print(liver_enzymes)"
   ]
  },
  {
   "cell_type": "code",
<<<<<<< HEAD
   "execution_count": 24,
=======
   "execution_count": 102,
>>>>>>> e09260cc58cba16ef9984c82a4ce0d3dbafc6c0b
   "id": "43d9d236",
   "metadata": {},
   "outputs": [
    {
     "data": {
<<<<<<< HEAD
      "image/png": "iVBORw0KGgoAAAANSUhEUgAAA0oAAAIjCAYAAAA9VuvLAAAAOXRFWHRTb2Z0d2FyZQBNYXRwbG90bGliIHZlcnNpb24zLjcuMiwgaHR0cHM6Ly9tYXRwbG90bGliLm9yZy8pXeV/AAAACXBIWXMAAA9hAAAPYQGoP6dpAABT9klEQVR4nO3de3zP9f//8ft7tr13dhi2YTOHmdMcQkKFMqcOJJVDzj4pHQg55IORppAoX5Qcy7FiiZKliJwmVCSlnIo1ORNz2PP3R7+9P96vbWxs3tvcrpfL+1Lv5+v5fr0e7/de76fd93q9ni+bMcYIAAAAAODg5uoCAAAAACC3ISgBAAAAgAVBCQAAAAAsCEoAAAAAYEFQAgAAAAALghIAAAAAWBCUAAAAAMCCoAQAAAAAFgQlAAAAALAgKAEAkEvMmzdPAQEB+vXXX11dCpCv/ec//1HNmjV14cIFV5eCXIygBOSAzp07KyIiQkePHnV1KUCOeOONNxQQEKBffvnFpXV07dpVFSpU0N9//+3SOrLD33//rb59++qdd95RRETELdtu165dVa5cOZ08efKWbTO7fPjhh7Lb7Vq3bp2rS7mmUaNGyWazafbs2a4u5YacO3dOVapUUdu2bZWSkuLqcm7amjVrtHjxYi1evFheXl6uLge5GEEJedrmzZv1yCOPKCwsTHa7XUFBQapXr5769+/vspreeecdffHFF/riiy9UrFixG16PzWbTc889l42VIbuFh4era9euTm0pKSlq2bKlAgICNGTIEB04cEA+Pj66cuWKa4rMIf3791f37t316KOP6p9//km3z+zZs2Wz2bR///5rrismJkY2my3LYWfmzJn6/PPPtXLlShUtWtRp2YYNGxQTE5PpX/4/++wzxcTEpLssJ7+LPXr0UPHixdW8eXP9/PPPGj9+vNq3b58j28rIe++9pwoVKqhz584yxtzSbd+sxx57TK+//rqeeOIJ/fXXX+n2WbNmjWw2m9asWXPNdaXur1u3br1mv65du8rPzy/TNf7www966623NGPGDL300kv6888/M/3a7NaoUSNVrVo1y6975plnVKRIEX3wwQdyc3P+1XH+/PmaOHFiptc1ZcqUdANj6s/po48+ynJ913Pu3DlVr15dxYsX16uvvqqkpCTFxcXd0j9IIG8iKCHPWrFiherXr6/Tp09r7NixWrVqlSZNmqQGDRpo0aJFLqlp+/bt+u9//6vPPvtMZcuWdUkNuHWWLl2qYcOGObVt375dO3fu1Pvvv6+EhARVqlRJffv2VYECBVxUZc6ZMGGCKlasqGeeeSbd5Q888IA2btyokJCQbN/2zp07NXjwYK1YsSLd79qGDRs0cuTILAWlkSNHZnOV1zZx4kT99ttv+u2331SoUCHFxcWpS5cut7QGSXJ3d9dHH32kxMREvfbaa7d8+zerb9++at++vdq3b5/uHyTuuOMObdy4UXfcccctr+3y5cvq1q2bJk+erO7du6t///566qmnbnkdN2PGjBlKSEjQJ598ku7Rl+wKSjnFGKNOnTqpWbNm2rVrlxYsWCAvLy81btz4ltWAvMvd1QUAN2rs2LEqU6aMvvjiC7m7/29XbteuncaOHeuSmmrWrMnpdreRmjVrpmmrVauWDh48KElq1apVmuXjx49XZGSkHnrooRyvL7s99dRTqlatmuPoipubmz788EOnPhs2bFCfPn2UkJCgYsWK3dRR1WupWrWqkpKScmTdt0q7du30zDPPyG63a968eUpMTHRZLb6+vtqyZYvLtp8VsbGxOn78uMaPH+9oe+ONN5z6HD58WNWrV9fRo0cVEBCgu+6661aXKenfEPrdd985ng8ePFiDBw92SS03qkePHurRo4ery7hhKSkpevvtt1WyZElJ0pYtW3Tu3DkXV4W8giNKyLOOHTumokWLOoWkVNZTA1JSUjR27FhVrFhRdrtdxYsXV+fOnfXHH39cdztHjx7VU089pdDQUNntdhUrVkwNGjTQl19+6egTHx+vVq1aqVSpUvLy8lL58uXVq1evNKcSpZ5itGvXLrVv314FCxZUUFCQunfvrlOnTqW7/ffff1+VKlWSj4+PqlevruXLl1+35tRTGObPn69BgwYpJCREfn5+euihh/TXX3/pzJkzeuqpp1S0aFEVLVpU3bp109mzZ53WYYzRlClTVKNGDXl7e6tw4cJq27atfv/9d6d+qadyJCQk6J577pGPj4/Kli2r1157LVPnsp88eVI9evRQkSJF5OfnpwceeEC///67bDab06lQe/fuVbdu3RQRESEfHx+VLFlSDz30kH788cd03/uCBQs0dOhQlShRQgEBAWrSpIn27Nlz3Xok6ZNPPlG1atVkt9tVtmxZTZo0yfGzu5r11LuMTjVLrSkuLk67d+/WTz/9lOl9Jj1ZeY/GGMXGxqp06dLy8vJS7dq1FR8fr0aNGqlRo0ZZqv3ChQs6f/68JGnZsmWqV6+efHx85O/vr4IFC2r69Ok6f/6841S8zJ56l+qvv/665vdi//79GV7ncfX+EhMTo5deekmSVKZMGdlstmueetW1a1f93//9n2M9qQ9r3df7Lnbt2lXh4eFp1p/evnPhwgVNmjRJFStWlKenp8LCwhQbG5vuEbD58+erXr168vPzk5+fn2rUqKEZM2ak+14kKS4uTjabTatXr06zbOrUqbLZbPrhhx8kSVu3blW7du0UHh4ub29vhYeHq3379jpw4ECG60+V+vMYP368JkyYoDJlysjPz0/16tXTpk2b0vSfPn26KlSoILvdrsqVK2v+/PlpPrOMTpNL3VZsbKzOnz/v2A/Xr1+v+++/X/7+/vLx8VGxYsU0ZMgQp/0ws6fepefIkSOqVauWIiIi0kywsXfvXrVs2VJ+fn4KDQ1V//79lZyc7NTn+PHj6t27t0qWLClPT0+VLVtWQ4cOTdMv9fTOzIz3mR2fruV64/X1xoPUz7JRo0ZasWKFDhw44PTdyUh4eLh27dqltWvXOvpavzOXLl267riW3mnPqfVcPa5J0p9//qlBgwapePHistvtqlWrlubOnZvm36fk5GSNGjVKlSpVkpeXlwIDA9W4cWNt2LAhw/eD24AB8qiePXsaSeb55583mzZtMhcvXsyw71NPPWUkmeeee86sXLnSTJs2zRQrVsyEhoaao0ePXnM7zZo1M8WKFTPvvvuuWbNmjYmLizPDhw83CxcudPSZPHmyeeWVV8zSpUvNmjVrzJw5c0y1atVMZGSkU10jRowwkkxkZKQZPny4iY+PNxMmTDB2u91069bNabuSTHh4uLnzzjvN4sWLzWeffWYaNWpk3N3dzW+//XbNmr/++msjyZQuXdp07drV8Z79/PxM48aNTXR0tBkwYIBZtWqVef31102BAgXM888/77SO//znP8bDw8P079/frFy50syfP99UrFjRBAUFmcTEREe/hg0bmsDAQBMREWGmTZtm4uPjTe/evY0kM2fOnGvWeeXKFXP33XcbLy8v89prr5lVq1aZkSNHmoiICCPJjBgxwtF37dq1pn///uajjz4ya9euNUuXLjWtW7c23t7e5ueff07z3sPDw03Hjh3NihUrzIIFC0xYWJiJiIgwly9fvmZNn3/+uXFzczONGjUyS5cuNR9++KGpW7euCQ8PN9Yhs3Tp0qZLly6O57NmzTKSzL59+9L9eUgyXl5eZvPmzWbq1KlmzJgxZtmyZWbt2rVmzpw5pnr16mn2mfRk5T0OGTLESDJPPfWUWblypZk+fboJCwszISEhpmHDhlmq3dvb22zbts3MmzfPSDJNmzY1cXFxZtGiRaZIkSKOfoMGDbrmOq0y+73Yt2+fkWRmzZqVZh1X7y+HDh0yzz//vJFklixZYjZu3Gg2btxoTp06le729+7da9q2bWskOfpu3LjRXLhwwbHuzHwXu3TpYkqXLp3h+0uVkpJimjVrZtzd3c2wYcPMqlWrzPjx442vr6+pWbOmY7vGGDNs2DAjybRp08Z8+OGHZtWqVWbChAlm2LBhGX6ely5dMsWLFzcdO3ZMs+zOO+80d9xxh+P5hx9+aIYPH26WLl1q1q5daxYuXGgaNmxoihUrdt2xMfXnER4ebpo3b27i4uJMXFyciYqKMoULFzYnT5509H3nnXeMJPPoo4+a5cuXm3nz5pkKFSqY0qVLO31mqfvb119/ne62JJkCBQqY5cuXmzVr1hgPDw9Tq1Yts2jRIhMXF2dq1arl6PfEE09cc51WqftrQkKCMcaYH3/80YSGhpp69eo5fRZdunQxnp6eplKlSmb8+PHmyy+/NMOHDzc2m82MHDnS0e/8+fOmWrVqxtfX14wfP96sWrXKDBs2zLi7u5uWLVs6bTuz+1hWxqf0ZHa8vt54kPpZ7tq1yzRo0MAEBwc7fXcysm3bNlO2bFlTs2ZNR99t27Y5rTsz45p17L36/V09riUlJZmSJUuaYsWKmWnTppmVK1ea5557zkgyzzzzjKPfpUuXTOPGjY27u7sZMGCA+eyzz8yyZcvMyy+/bBYsWHDdzxX5F0EJedbff/9t7r77bsc/ih4eHqZ+/fpmzJgx5syZM45+u3fvNpJM7969nV6/efNmI8m8/PLL19yOn5+f6du3b5brO3jwoJFkPvnkE0db6i9MY8eOderbu3dv4+XlZVJSUhxtkkxQUJA5ffq0oy0xMdG4ubmZMWPGXHPbqf/gPPTQQ07tffv2NZLMCy+84NTeunVrU6RIEcfzjRs3GknmjTfecOp36NAh4+3tbQYOHOhoa9iwoZFkNm/e7NS3cuXKplmzZtesc8WKFUaSmTp1qlP7mDFj0gQlq8uXL5uLFy+aiIgI8+KLL6Z579ZfRBYvXuz4Rfha6tSpY0JDQ01ycrKj7cyZMyYwMPCmg9LKlSud9s1UKSkp5tKlS+bAgQNp9pn0ZPY9Hj9+3NjtdscvjKlSf75ZCUorV640Z8+eNVeuXDElSpQwUVFR5sqVK06fUbFixUzFihWvu06rzH4vMhuUjDFm3Lhxmdp2qmeffTbDXzQz+13MbFBauXJluu930aJFRpJ59913jTHG/P7776ZAgQLpBp7r6devn/H29nYKKz/99JORZN5+++0MX3f58mVz9uxZ4+vrayZNmnTNbaT+PKKiopx+id2yZYuR5PgF88qVKyY4ONjUrVvX6fUHDhwwHh4eWQpK06dPd7ynu+66yxQvXtzpO3X58mVTtWpV4+Pj46jpRoJSfHy8CQgIMG3btjXnz5936telSxcjySxevNipvWXLliYyMtLxfNq0aen2e/31140ks2rVKkdbZvexrIxP6cnseJ3ZoGSMMQ888EC6+31GqlSp4jT2WNedmbE7s0Fp8ODB6b7fZ555xthsNrNnzx5jjDFz58517F/A1Tj1DnlWYGCg1q1bp4SEBL322mtq1aqVfvnlFw0ZMkRRUVGOU5i+/vprSUpzmP7OO+9UpUqV0j09xdpv9uzZGj16tDZt2qRLly6l6XP8+HH169dPFStWVEBAgLy8vByz6ezevTtN/4cfftjpebVq1XThwoU011w0btxY/v7+judBQUEqXrx4pk6LkaQHH3zQ6XmlSpUk/XuRvbX9+PHjjtPvli9fLpvNpieffFKXL192PIKDg1W9evU0p7AEBwfrzjvvTPOerlfn2rVrJUmPP/64U3t6s35dvnxZsbGxqly5sjw9PeXu7i5PT0/9+uuvmf6MJV2zpnPnzmnr1q1q3bq1PD09He2ppy3eLLvd7pgtKykpSU8//bRCQ0Pl7u4uDw8PlS5dWlL6+0x6rvceN23apOTk5DSf71133ZXuKWLXq93X11d79uzR4cOH1alTJ6dTXP38/NS2bVv98ssvGc6Cdz2Z/V64ws1+F6/21VdfSUo7Jj322GPy9fV1jEnx8fG6cuWKnn322Sxvo3v37jp//rzTxDazZs2S3W5Xhw4dHG1nz57VoEGDVL58ebm7u8vd3V1+fn46d+5cpvfDBx54wGmyEut+uGfPHiUmJqbZD8PCwtSgQYMsvS93d3cVLFhQ586d0+bNm9W2bVunGegKFCigTp066Z9//rnhe1HNmTNHLVu2VM+ePTOcPtpms6UZE6xj3ldffSVfX1+1bdvWqV/qz936b8/19rHsGp9udLy+VW5k7M7IV199pcqVK6d5v127dpUxxvFd/Pzzz+Xl5aXu3bvfYNXIrwhKyPNq166tQYMG6cMPP9Thw4f14osvav/+/Y4JHY4dOyZJ6c68VaJECcfyjCxatEhdunTRe++9p3r16qlIkSLq3Lmz48JrY4yaNm2qBQsW6KWXXtLq1au1fft2xxSzqefSXy0wMNDpud1uT7evtV9q3/TWmZ4iRYo4PU/9xzWj9tQb7/31118yxigoKEgeHh5Oj02bNqW5juZG6zx27Jjc3d3T1BMUFJSmb79+/TRs2DC1bt1an376qTZv3qyEhARVr179pj7jq504ccLxvq3Sa7tRKSkpatq0qZYsWaKBAwdq9erV2rJli+O6jsz+fK/3HlP37ex8P9f7PqWkpOjEiRM3tO4b+ZndKjf7Xbxa6n5vnejCZrMpODjY8RmnTgxTqlSpLG+jSpUqqlOnjmbNmiVJunLlij744AO1atXK6fvWoUMHTZ48WT179tQXX3yhLVu2OCbiyM37Yep3NaP98OrtZtXChQvl7e2tnj17Zni9jY+PT5oAZbfbnW5eeuzYMQUHB6dZR/HixeXu7p6mvuvtY9k1PmXnvpwTsnMcOHbsWKb2kaNHj6pEiRJprm8GmPUO+YqHh4dGjBihN998Uzt37pT0v0H3yJEjaX7hOHz4cJr7r1gVLVpUEydO1MSJE3Xw4EEtW7ZMgwcPVlJSklauXKmdO3fqu+++09y5c9WpUyfH61x9I86bUbRoUdlsNq1bt87xj9TV0mu7EYGBgbp8+bKOHz/u9MtberN/ffDBB+rcubNiY2Od2v/++28VKlQoW+opXLiwbDZbuvdjycyMZKm/OFkv1LYGy507d+r777/X7NmznaaD3rt3742UnaHUfT+j93P1UaXM1n7198nq8OHDcnNzU+HChW+q7oxkVOON/kKc3by8vNLUJqX/GV6+fFlHjx51CkvGGCUmJqpOnTqS5Fj2xx9/KDQ0NMv1dOvWTb1799bu3bv1+++/68iRI+rWrZtj+alTp7R8+XKNGDHCaSa25ORkHT9+PMvby8j19sOrZXY/LFy4sNzc3DLcDyVdd2zPyLx58zRs2DA1bNhQq1atUo0aNW5oPYGBgdq8ebOMMU5hKSkpSZcvX85yfTc7PmVFZn8OrnKt79rVn2tgYGCm9pFixYpp/fr1SklJISzBCXsD8qz0Bj/pf6ctpf7F6L777pP07y/aV0tISNDu3bt1//33Z3qbYWFheu655xQdHa1t27ZJkuMGjdb75EybNi3T681tHnzwQRlj9Oeff6p27dppHlFRUdmynYYNG0pSmvteLVy4ME1fm82WJqCtWLEiW2/e6Ovrq9q1aysuLk4XL150tJ89ezZTsw2mBo/UGcVSLVu2zOl56i9N1vfzzjvv3EjZGapbt67sdnuaz3fTpk1pTmPJbO2RkZEqWbKk5s+f73Rz0nPnzunjjz92zISXE4KCguTl5ZWmxk8++SRN36z+FTo7jl6Fh4crKSnJ6RfZixcv6osvvnDqlzrmWMekjz/+WOfOnXMsb9q0qQoUKKCpU6feUD3t27eXl5eXZs+erdmzZ6tkyZJq2rSpY7nNZpMxJs1++N5772XrDZIjIyMVHBysxYsXO7UfPHgwzYximd0PfX19VbduXS1ZssTpZ5aSkqIPPvhApUqVUoUKFW6o3iJFiujLL79UpUqV1Lhx43Rn8MuM+++/X2fPnlVcXJxT+9y5cx3Ls+Jmx6esyOzPQcr60ajsOHoVHh6eprZffvklzex4999/v3766SfHv9ep5s6dK5vN5riXUosWLXThwoVben8n5A0cUUKe1axZM5UqVUoPPfSQKlasqJSUFO3YsUNvvPGG/Pz81KdPH0n//iP91FNP6e2335abm5tatGih/fv3a9iwYQoNDdWLL76Y4TZOnTqlxo0bq0OHDqpYsaL8/f2VkJCglStXqk2bNpL+vb6nbNmyGjJkiIwxCgwM1LJly5ymD89rGjRooKeeekrdunXT1q1bde+998rX11dHjhzR+vXrFRUVleFNRrOiefPmatCggfr376/Tp0+rVq1a2rhxo+MXiav/svfggw9q9uzZqlixoqpVq6bvvvtO48aNu6HTkq5l1KhReuCBB9SsWTP16dNHV65c0bhx4+Tn53fdv7LXqVNHkZGRGjBggC5fvqzChQtr6dKlWrdunVO/ihUrqly5cho8eLCMMSpSpIg+/fRTxcfHZ+t7KVKkiPr166cxY8aocOHCeuSRR/THH39o5MiRCgkJcfp8M1u7m5ubxo4dq44dO+rBBx9Ur169lJycrHHjxunkyZM5esPS1OvmZs6cqXLlyql69erasmWL5s+fn6ZvapifNGmSunTpIg8PD0VGRjpdA5Je/9dff10tWrRQgQIFVK1aNadrQa7niSee0PDhw9WuXTu99NJLunDhgt566600oSM6OlrNmjXToEGDdPr0aTVo0EA//PCDRowYoZo1azqOTIeHh+vll1/WK6+8ovPnzzumTv/pp5/0999/X/cGuYUKFdIjjzyi2bNn6+TJkxowYIDTzzwgIED33nuvxo0bp6JFiyo8PFxr167VjBkzsu0orfTvPjNy5Ej16tVLbdu2Vffu3XXy5Ml098Pg4GA1adLEsc+WLl1aq1ev1scff5xmvWPGjFF0dLQaN26sAQMGyNPTU1OmTNHOnTu1YMGCLE2XbeXv7+8Y56Ojo7Vs2bIs36C0c+fO+r//+z916dJF+/fvV1RUlNavX6/Y2Fi1bNlSTZo0yXJdNzM+ZUVG48H69evT9I2KitKSJUs0depU1apVS25ubqpdu3aG646KitLChQu1aNEilS1bVl5eXln+41unTp305JNPqnfv3nr00Ud14MABjR07Ns3prC+++KLmzp2rBx54QKNGjVLp0qW1YsUKTZkyRc8884wjTLdv316zZs3S008/rT179qhx48ZKSUnR5s2bValSJbVr1y5L9SEfccUMEkB2WLRokenQoYOJiIgwfn5+xsPDw4SFhZlOnTqZn376yanvlStXzOuvv24qVKhgPDw8TNGiRc2TTz5pDh06dM1tXLhwwTz99NOmWrVqJiAgwHh7e5vIyEgzYsQIc+7cOUe/n376yURHRxt/f39TuHBh89hjjzlmvbt6Jq7U2a+s0+6mN8OQJPPss8+mqSmj2X6uljp70IcffpjudlKnv71eXTNnzjR169Y1vr6+xtvb25QrV8507tzZbN261dGnYcOGpkqVKmlqyGgGMKvjx4+bbt26mUKFChkfHx8THR1tNm3aZCQ5zbp14sQJ06NHD1O8eHHj4+Nj7r77brNu3bo0sxxl9N6vNWOa1dKlS01UVJTx9PQ0YWFh5rXXXjMvvPCCKVy4sFO/9H4Wv/zyi2natKkJCAgwxYoVM88//7xjdr+rZ4rK7D6Tnqy8x5SUFDN69GhTqlQp4+npaapVq2aWL19uqlevbh555JEbqt0YY+Li4kzdunWNl5eX8fX1Nffff7/59ttvnfpkdda7zHwvTp06ZXr27GmCgoKMr6+veeihh8z+/fvT/dyGDBliSpQoYdzc3K4761lycrLp2bOnKVasmLHZbE7bzcp38bPPPjM1atQw3t7epmzZsmby5MlpZr0z5t+powcNGmRKly5tPDw8TEhIiHnmmWfMiRMn0mxn7ty5pk6dOsbLy8v4+fmZmjVrZmo/NsaYVatWOWYG/eWXX9Is/+OPP8yjjz5qChcubPz9/U3z5s3Nzp07MzXOpO5v48aNS7MsvZ/Hu+++a8qXL288PT1NhQoVzMyZM02rVq1MzZo1nfodOXLEtG3b1hQpUsQULFjQPPnkkyYhISHd7++6devMfffd5xij7rrrLvPpp5869bnR6cGN+Xe/ePTRR42Xl5dZsWKFMebfsc3X1zfN69P7OR87dsw8/fTTJiQkxLi7u5vSpUubIUOGOE0Bn/p5ZXYfy+z4lJ6sjNeZHQ+OHz9u2rZtawoVKuT47lzL/v37TdOmTY2/v7+R5NhuVse1sWPHmrJlyxovLy9Tu3Zt89VXX6X598CYf2dX7NChgwkMDDQeHh4mMjLSjBs3zmnWTmP+/U4OHz7cREREGE9PTxMYGGjuu+8+s2HDhmu+H+RvNmOuOncCAHKB+fPnq2PHjvr2229Vv359V5ejS5cuqUaNGipZsqRWrVrl6nJu2r59+1SxYkWNGDFCL7/8sqvLwW3q5MmTqlChglq3bq13333X1eXkWfltfAJyE069A+BSCxYs0J9//qmoqCi5ublp06ZNGjdunO69916XhaQePXooOjpaISEhSkxM1LRp07R7925NmjTJJfXcjO+//14LFixQ/fr1FRAQoD179mjs2LEKCAhQjx49XF0ebhOJiYl69dVX1bhxYwUGBurAgQN68803debMGcdp0sic/DQ+AbkdQQmAS/n7+2vhwoUaPXq0zp07p5CQEHXt2lWjR492WU1nzpzRgAEDdPToUXl4eOiOO+7QZ599dkPXFLiar6+vtm7dqhkzZujkyZMqWLCgGjVqpFdffTVbpzwHrsVut2v//v3q3bu3jh8/Lh8fH911112aNm2aqlSp4ury8pT8ND4BuR2n3gEAAACABdODAwAAAIAFQQkAAAAALAhKAAAAAGCR7ydzSElJ0eHDh+Xv739TN58DAAAAkLcZY3TmzBmVKFHC6YbX6cn3Qenw4cMKDQ11dRkAAAAAcolDhw6pVKlS1+yT74OSv7+/pH8/jICAABdXAwAAAMBVTp8+rdDQUEdGuJZ8H5RST7cLCAggKAEAAADI1CU5TOYAAAAAABYEJQAAAACwICgBAAAAgEW+v0YpM4wxunz5sq5cueLqUnINDw8PFShQwNVlAAAAAC5x2welixcv6siRI/rnn39cXUquYrPZVKpUKfn5+bm6FAAAAOCWu62DUkpKivbt26cCBQqoRIkS8vT05Ka0+vcI29GjR/XHH38oIiKCI0sAAAC47dzWQenixYtKSUlRaGiofHx8XF1OrlKsWDHt379fly5dIigBAADgtsNkDpLc3PgYrDiyBgAAgNsZCQEAAAAALAhKAAAAAGBBUMqFbDab4uLiMlweHh6uiRMn3rJ6AAAAgNsNQekakpKS1KtXL4WFhclutys4OFjNmjXTxo0bXVpXQkKCnnrqKZfWAAAAAORnt/Wsd9fz6KOP6tKlS5ozZ47Kli2rv/76S6tXr9bx48ddWlexYsVcun0AAAAgv+OIUgZOnjyp9evX6/XXX1fjxo1VunRp3XnnnRoyZIgeeOABSf+eIvfOO+/owQcflI+PjypVqqSNGzdq7969atSokXx9fVWvXj399ttvTuueOnWqypUrJ09PT0VGRur999+/Zi2jRo1SUFCQduzYISntqXc2m03vvfeeHnnkEfn4+CgiIkLLli1zWseyZcsUEREhb29vNW7cWHPmzJHNZtPJkydv+rMCAAAA8huCUgb8/Pzk5+enuLg4JScnZ9jvlVdeUefOnbVjxw5VrFhRHTp0UK9evTRkyBBt3bpVkvTcc885+i9dulR9+vRR//79tXPnTvXq1UvdunXT119/nWbdxhj16dNHM2bM0Pr161WjRo0M6xg5cqQef/xx/fDDD2rZsqU6duzoOPK1f/9+tW3bVq1bt9aOHTvUq1cvDR069AY/GQAAACD/IyhlwN3dXbNnz9acOXNUqFAhNWjQQC+//LJ++OEHp37dunXT448/rgoVKmjQoEHav3+/OnbsqGbNmqlSpUrq06eP1qxZ4+g/fvx4de3aVb1791aFChXUr18/tWnTRuPHj3da7+XLl9W5c2etWrVK3377rSIiIq5Zb9euXdW+fXuVL19esbGxOnfunLZs2SJJmjZtmiIjIzVu3DhFRkaqXbt26tq1a7Z8TgAAAEB+RFC6hkcffVSHDx/WsmXL1KxZM61Zs0Z33HGHZs+e7ehTrVo1x/8HBQVJkqKiopzaLly4oNOnT0uSdu/erQYNGjhtp0GDBtq9e7dT24svvqiNGzdq3bp1KlWq1HVrvboOX19f+fv7KykpSZK0Z88e1alTx6n/nXfeed11AgAAALcrgtJ1eHl5KTo6WsOHD9eGDRvUtWtXjRgxwrHcw8PD8f82my3DtpSUlDRtqYwxadqio6P1559/6osvvshUnVdvM3UbqdtMb/3GmEytFwAAALgdEZSyqHLlyjp37twNv75SpUpav369U9uGDRtUqVIlp7aHH35Y8+fPV8+ePbVw4cIb3p4kVaxYUQkJCU5tqddPAQAAAEiL6cEzcOzYMT322GPq3r27qlWrJn9/f23dulVjx45Vq1atbni9L730kh5//HHdcccduv/++/Xpp59qyZIl+vLLL9P0feSRR/T++++rU6dOcnd3V9u2bW9om7169dKECRM0aNAg9ejRQzt27HCcPmg90gQAAJCfHRwVdf1OcImw4T+6ugQnBKUM+Pn5qW7dunrzzTf122+/6dKlSwoNDdV//vMfvfzyyze83tatW2vSpEkaN26cXnjhBZUpU0azZs1So0aN0u3ftm1bpaSkqFOnTnJzc1ObNm2yvM0yZcroo48+Uv/+/TVp0iTVq1dPQ4cO1TPPPCO73X7D7wUAAADIr2wmn1+scvr0aRUsWFCnTp1SQECA07ILFy5o3759KlOmjLy8vFxUoWu8+uqrmjZtmg4dOpTu8tv5swEAAPkXR5Ryr1txROla2cCKI0q3iSlTpqhOnToKDAzUt99+q3Hjxjnd3wkAAADA/xCUbhO//vqrRo8erePHjyssLEz9+/fXkCFDXF0WAAAAkCsRlG4Tb775pt58801XlwEAAADkCUwPDgAAAAAWBCUAAAAAsCAoAQAAAIAFQQkAAAAALAhKAAAAAGBBUAIAAAAAC6YHz6JaL829pdv7blznW7o9AAAAABxRyremTJmiMmXKyMvLS7Vq1dK6detcXRIAAACQZxCU8qFFixapb9++Gjp0qLZv36577rlHLVq00MGDB11dGgAAAJAnEJTyoQkTJqhHjx7q2bOnKlWqpIkTJyo0NFRTp051dWkAAABAnkBQymcuXryo7777Tk2bNnVqb9q0qTZs2OCiqgAAAIC8haCUz/z999+6cuWKgoKCnNqDgoKUmJjooqoAAACAvIWglE/ZbDan58aYNG0AAAAA0kdQymeKFi2qAgUKpDl6lJSUlOYoEwAAAID0EZTyGU9PT9WqVUvx8fFO7fHx8apfv76LqgIAAADyFm44mw/169dPnTp1Uu3atVWvXj29++67OnjwoJ5++mlXlwYAAADkCQSlLPpuXGdXl3BdTzzxhI4dO6ZRo0bpyJEjqlq1qj777DOVLl3a1aUBAAAAeQJBKZ/q3bu3evfu7eoyAAAAgDyJa5QAAAAAwIKgBAAAAAAWBCUAAAAAsCAoAQAAAIAFQQkAAAAALAhKAAAAAGBBUAIAAAAAC4ISAAAAAFgQlAAAAADAwt3VBeQ1B0dF3dLthQ3/8ZZuDwAAAABHlPKdb775Rg899JBKlCghm82muLg4V5cEAAAA5DkEpXzm3Llzql69uiZPnuzqUgAAAIA8i1Pv8pkWLVqoRYsWri4DAAAAyNM4ogQAAAAAFgQlAAAAALAgKAEAAACAhUuDUkxMjGw2m9MjODjYsdwYo5iYGJUoUULe3t5q1KiRdu3a5cKKAQAAANwOXH5EqUqVKjpy5Ijj8eOP/7tv0NixYzVhwgRNnjxZCQkJCg4OVnR0tM6cOePCigEAAADkdy6f9c7d3d3pKFIqY4wmTpyooUOHqk2bNpKkOXPmKCgoSPPnz1evXr1udal5wtmzZ7V3717H83379mnHjh0qUqSIwsLCXFgZAAAAkHe4PCj9+uuvKlGihOx2u+rWravY2FiVLVtW+/btU2Jiopo2beroa7fb1bBhQ23YsCHDoJScnKzk5GTH89OnT2drvWHDf7x+JxfaunWrGjdu7Hjer18/SVKXLl00e/ZsF1UFAAAA5C0uDUp169bV3LlzVaFCBf31118aPXq06tevr127dikxMVGSFBQU5PSaoKAgHThwIMN1jhkzRiNHjszRunOzRo0ayRjj6jIAAACAPM2l1yi1aNFCjz76qKKiotSkSROtWLFC0r+n2KWy2WxOrzHGpGm72pAhQ3Tq1CnH49ChQzlTPAAAAIB8y+WTOVzN19dXUVFR+vXXXx3XLaUeWUqVlJSU5ijT1ex2uwICApweAAAAAJAVuSooJScna/fu3QoJCVGZMmUUHBys+Ph4x/KLFy9q7dq1ql+/vgurBAAAAJDfufQapQEDBuihhx5SWFiYkpKSNHr0aJ0+fVpdunSRzWZT3759FRsbq4iICEVERCg2NlY+Pj7q0KGDK8sGAAAAkM+5NCj98ccfat++vf7++28VK1ZMd911lzZt2qTSpUtLkgYOHKjz58+rd+/eOnHihOrWratVq1bJ398/W+tg8oO0+EwAAABwO3NpUFq4cOE1l9tsNsXExCgmJiZHtu/h4SFJ+ueff+Tt7Z0j28irLl68KEkqUKCAiysBAAAAbj2X30fJlQoUKKBChQopKSlJkuTj43PNGfVuFykpKTp69Kh8fHzk7n5b7yIAAAC4Td32vwWnzq6XGpbwLzc3N4WFhREcAQAAcFu67YOSzWZTSEiIihcvrkuXLrm6nFzD09NTbm65alJEAAAA4Ja57YNSqgIFCnA9DgAAAABJuew+SgAAAACQGxCUAAAAAMCCoAQAAAAAFgQlAAAAALAgKAEAAACABUEJAAAAACwISgAAAABgQVACAAAAAAuCEgAAAABYEJQAAAAAwIKgBAAAAAAWBCUAAAAAsCAoAQAAAIAFQQkAAAAALAhKAAAAAGBBUAIAAAAAC4ISAAAAAFgQlAAAAADAgqAEAAAAABYEJQAAAACwICgBAAAAgAVBCQAAAAAsCEoAAAAAYEFQAgAAAAALghIAAAAAWBCUAAAAAMCCoAQAAAAAFgQlAAAAALAgKAEAAACABUEJAAAAACwISgAAAABgQVACAAAAAAuCEgAAAABYEJQAAAAAwIKgBAAAAAAWBCUAAAAAsCAoAQAAAIAFQQkAAAAALAhKAAAAAGBBUAIAAAAAC4ISAAAAAFgQlAAAAADAgqAEAAAAABYEJQAAAACwICgBAAAAgAVBCQAAAAAsCEoAAAAAYEFQAgAAAAALghIAAAAAWBCUAAAAAMCCoAQAAAAAFgQlAAAAALAgKAEAAACABUEJAAAAACwISgAAAABgQVACAAAAAAuCEgAAAABYEJQAAAAAwIKgBAAAAAAWBCUAAAAAsCAoAQAAAIAFQQkAAAAALAhKAAAAAGBBUAIAAAAAi1wTlMaMGSObzaa+ffs62owxiomJUYkSJeTt7a1GjRpp165drisSAAAAwG0hVwSlhIQEvfvuu6pWrZpT+9ixYzVhwgRNnjxZCQkJCg4OVnR0tM6cOeOiSgEAAADcDlwelM6ePauOHTtq+vTpKly4sKPdGKOJEydq6NChatOmjapWrao5c+bon3/+0fz5811YMQAAAID8zuVB6dlnn9UDDzygJk2aOLXv27dPiYmJatq0qaPNbrerYcOG2rBhQ4brS05O1unTp50eAAAAAJAV7q7c+MKFC7Vt2zYlJCSkWZaYmChJCgoKcmoPCgrSgQMHMlznmDFjNHLkyOwtFAAAAMBtxWVHlA4dOqQ+ffrogw8+kJeXV4b9bDab03NjTJq2qw0ZMkSnTp1yPA4dOpRtNQMAAAC4PbjsiNJ3332npKQk1apVy9F25coVffPNN5o8ebL27Nkj6d8jSyEhIY4+SUlJaY4yXc1ut8tut+dc4QAAAADyPZcdUbr//vv1448/aseOHY5H7dq11bFjR+3YsUNly5ZVcHCw4uPjHa+5ePGi1q5dq/r167uqbAAAAAC3AZcdUfL391fVqlWd2nx9fRUYGOho79u3r2JjYxUREaGIiAjFxsbKx8dHHTp0cEXJAAAAAG4TLp3M4XoGDhyo8+fPq3fv3jpx4oTq1q2rVatWyd/f39WlAQAAAMjHbMYY4+oictLp06dVsGBBnTp1SgEBAa4uBwAAAC50cFSUq0tABsKG/5jj28hKNnD5fZQAAAAAILchKAEAAACABUEJAAAAACwISgAAAABgQVACAAAAAAuCEgAAAABYEJQAAAAAwIKgBAAAAAAWBCUAAAAAsCAoAQAAAIAFQQkAAAAALAhKAAAAAGBBUAIAAAAAC4ISAAAAAFgQlAAAAADAgqAEAAAAABYEJQAAAACwICgBAAAAgAVBCQAAAAAsCEoAAAAAYEFQAgAAAAALghIAAAAAWBCUAAAAAMCCoAQAAAAAFgQlAAAAALAgKAEAAACABUEJAAAAACwISgAAAABgQVACAAAAAAuCEgAAAABYEJQAAAAAwIKgBAAAAAAWBCUAAAAAsCAoAQAAAIAFQQkAAAAALAhKAAAAAGBBUAIAAAAAC4ISAAAAAFgQlAAAAADAgqAEAAAAABYEJQAAAACwuKGg9Ntvv+m///2v2rdvr6SkJEnSypUrtWvXrmwtDgAAAABcIctBae3atYqKitLmzZu1ZMkSnT17VpL0ww8/aMSIEdleIAAAAADcalkOSoMHD9bo0aMVHx8vT09PR3vjxo21cePGbC0OAAAAAFwhy0Hpxx9/1COPPJKmvVixYjp27Fi2FAUAAAAArpTloFSoUCEdOXIkTfv27dtVsmTJbCkKAAAAAFwpy0GpQ4cOGjRokBITE2Wz2ZSSkqJvv/1WAwYMUOfOnXOiRgAAAAC4pbIclF599VWFhYWpZMmSOnv2rCpXrqx7771X9evX13//+9+cqBEAAAAAbin3rL7Aw8ND8+bN06hRo7R9+3alpKSoZs2aioiIyIn6AAAAAOCWy3JQSlWuXDmVK1cuO2sBAAAAgFwhy0Gpe/fu11w+c+bMGy4GAAAAAHKDLAelEydOOD2/dOmSdu7cqZMnT+q+++7LtsIAAAAAwFWyHJSWLl2api0lJUW9e/dW2bJls6UoAAAAAHClLM96l+5K3Nz04osv6s0338yO1QEAAACAS2VLUJKk3377TZcvX86u1QEAAACAy2T51Lt+/fo5PTfG6MiRI1qxYoW6dOmSbYUBAAAAgKtkOSht377d6bmbm5uKFSumN95447oz4gEAAABAXpDloPT111/nRB0AAAAAkGtk2zVKAAAAAJBfZOqIUs2aNWWz2TK1wm3btt1UQQAAAADgapkKSq1bt87hMgAAAAAg98hUUBoxYkRO1wEAAAAAuQbXKAEAAACARZZnvbty5YrefPNNLV68WAcPHtTFixedlh8/fjzbigMAAAAAV8hyUBo5cqTee+899evXT8OGDdPQoUO1f/9+xcXFafjw4TlRIwAA2eLgqChXl4AMhA3/0dUlZKtaL811dQnIwFJ/V1eAvCLLp97NmzdP06dP14ABA+Tu7q727dvrvffe0/Dhw7Vp06acqBEAAAAAbqksB6XExERFRf37Fzk/Pz+dOnVKkvTggw9qxYoV2VsdAAAAALhAloNSqVKldOTIEUlS+fLltWrVKklSQkKC7HZ79lYHAAAAAC6Q5aD0yCOPaPXq1ZKkPn36aNiwYYqIiFDnzp3VvXv3LK1r6tSpqlatmgICAhQQEKB69erp888/dyw3xigmJkYlSpSQt7e3GjVqpF27dmW1ZAAAAADIkkxP5jBx4kR17txZr732mqOtbdu2KlWqlDZs2KDy5cvr4YcfztLGS5Uqpddee03ly5eXJM2ZM0etWrXS9u3bVaVKFY0dO1YTJkzQ7NmzVaFCBY0ePVrR0dHas2eP/P25Eg8AAABAzrAZY0xmOhYuXFjnz59Xq1at1KNHD0VHR8tms2V7QUWKFNG4cePUvXt3lShRQn379tWgQYMkScnJyQoKCtLrr7+uXr16ZWp9p0+fVsGCBXXq1CkFBARke70AgLyDWe9yL2a9w62y1H+cq0tABm7FOJCVbJDpU+8SExM1Y8YMHTt2TC1atFDp0qU1YsQI7du376YLlv69P9PChQt17tw51atXT/v27VNiYqKaNm3q6GO329WwYUNt2LAhw/UkJyfr9OnTTg8AAAAAyIpMByW73a6OHTvqyy+/1G+//aZu3bpp7ty5ioiIUJMmTbRgwQIlJydnuYAff/xRfn5+stvtevrpp7V06VJVrlxZiYmJkqSgoCCn/kFBQY5l6RkzZowKFizoeISGhma5JgAAAAC3tyxP5iBJ4eHhGjlypPbt26eVK1cqKChIPXv2VIkSJbK8rsjISO3YsUObNm3SM888oy5duuinn35yLLee3meMueYpf0OGDNGpU6ccj0OHDmW5JgAAAAC3t0xP5pARNzc32Ww2GWOUkpKS5dd7eno6JnOoXbu2EhISNGnSJMd1SYmJiQoJCXH0T0pKSnOU6Wp2u51pygEAAADclBs6onTgwAGNHDlSZcqUUdOmTXX48GFNnz7dcX+lm2GMUXJyssqUKaPg4GDFx8c7ll28eFFr165V/fr1b3o7AAAAAJCRTB9RunDhgj7++GPNnDlTa9euVUhIiLp06aLu3burbNmyN7Txl19+WS1atFBoaKjOnDmjhQsXas2aNVq5cqVsNpv69u2r2NhYRUREKCIiQrGxsfLx8VGHDh1uaHsAAAAAkBmZDkrBwcG6cOGCHnzwQX366adq1qyZ3Nxu6ICUw19//aVOnTrpyJEjKliwoKpVq6aVK1cqOjpakjRw4ECdP39evXv31okTJ1S3bl2tWrWKeygBAAAAyFGZDkrDhw9X586dVbRo0Wzb+IwZM6653GazKSYmRjExMdm2TQAAAAC4nkwHpX79+uVkHQAAAACQa9zcuXMAAAAAkA8RlAAAAADAgqAEAAAAABYEJQAAAACwyPRkDqmuXLmi2bNna/Xq1UpKSlJKSorT8q+++irbigMAAAAAV8hyUOrTp49mz56tBx54QFWrVpXNZsuJugAAAADAZbIclBYuXKjFixerZcuWOVEPAAAAALhclq9R8vT0VPny5XOiFgAAAADIFbIclPr3769JkybJGJMT9QAAAACAy2X51Lv169fr66+/1ueff64qVarIw8PDafmSJUuyrTgAAAAAcIUsB6VChQrpkUceyYlagBxzcFSUq0vANYQN/9HVJQAAADjJclCaNWtWTtQBAAAAALkGN5wFAAAAAIssH1GSpI8++kiLFy/WwYMHdfHiRadl27Zty5bCAAAAAMBVsnxE6a233lK3bt1UvHhxbd++XXfeeacCAwP1+++/q0WLFjlRIwAAAADcUlkOSlOmTNG7776ryZMny9PTUwMHDlR8fLxeeOEFnTp1KidqBAAAAIBbKstB6eDBg6pfv74kydvbW2fOnJEkderUSQsWLMje6gAAAADABbIclIKDg3Xs2DFJUunSpbVp0yZJ0r59+7gJLQAAAIB8IctB6b777tOnn34qSerRo4defPFFRUdH64knnuD+SgAAAADyhSzPevfuu+8qJSVFkvT000+rSJEiWr9+vR566CE9/fTT2V4gAAAAANxqWQ5Kbm5ucnP734Goxx9/XI8//ni2FgUAAAAArnRDN5xdt26dnnzySdWrV09//vmnJOn999/X+vXrs7U4AAAAAHCFLAeljz/+WM2aNZO3t7e2b9+u5ORkSdKZM2cUGxub7QUCAAAAwK2W5aA0evRoTZs2TdOnT5eHh4ejvX79+tq2bVu2FgcAAAAArpDloLRnzx7de++9adoDAgJ08uTJ7KgJAAAAAFwqy0EpJCREe/fuTdO+fv16lS1bNluKAgAAAABXynJQ6tWrl/r06aPNmzfLZrPp8OHDmjdvngYMGKDevXvnRI0AAAAAcEtleXrwgQMH6tSpU2rcuLEuXLige++9V3a7XQMGDNBzzz2XEzUCAAAAwC2V5aAkSa+++qqGDh2qn376SSkpKapcubL8/PyyuzYAAAAAcIkbCkqS5OPjo9q1a2dnLQAAAACQK2Q6KHXv3j1T/WbOnHnDxeR1tV6a6+oSkIGl/q6uAAAAAHlJpoPS7NmzVbp0adWsWVPGmJysCQAAAABcKtNB6emnn9bChQv1+++/q3v37nryySdVpEiRnKwNAAAAAFwi09ODT5kyRUeOHNGgQYP06aefKjQ0VI8//ri++OILjjABAAAAyFeyNJmD3W5X+/bt1b59ex04cECzZ89W7969denSJf3000/MfAfgtse1irkb1ysCADIryzecTWWz2WSz2WSMUUpKSnbWBAAAAAAulaWglJycrAULFig6OlqRkZH68ccfNXnyZB08eJCjSQAAAADyjUyfete7d28tXLhQYWFh6tatmxYuXKjAwMCcrA0AAAAAXCLTQWnatGkKCwtTmTJltHbtWq1duzbdfkuWLMm24gAAAADAFTIdlDp37iybzZaTtQAAAABArpClG84CAAAAwO3ghme9AwAAAID8iqAEAAAAABYEJQAAAACwICgBAAAAgAVBCQAAAAAsCEoAAAAAYEFQAgAAAAALghIAAAAAWBCUAAAAAMCCoAQAAAAAFgQlAAAAALAgKAEAAACABUEJAAAAACwISgAAAABgQVACAAAAAAuCEgAAAABYEJQAAAAAwIKgBAAAAAAWBCUAAAAAsCAoAQAAAIAFQQkAAAAALAhKAAAAAGBBUAIAAAAAC4ISAAAAAFgQlAAAAADAgqAEAAAAABYuDUpjxoxRnTp15O/vr+LFi6t169bas2ePUx9jjGJiYlSiRAl5e3urUaNG2rVrl4sqBgAAAHA7cGlQWrt2rZ599llt2rRJ8fHxunz5spo2bapz5845+owdO1YTJkzQ5MmTlZCQoODgYEVHR+vMmTMurBwAAABAfubuyo2vXLnS6fmsWbNUvHhxfffdd7r33ntljNHEiRM1dOhQtWnTRpI0Z84cBQUFaf78+erVq5crygYAAACQz+Wqa5ROnTolSSpSpIgkad++fUpMTFTTpk0dfex2uxo2bKgNGzaku47k5GSdPn3a6QEAAAAAWZFrgpIxRv369dPdd9+tqlWrSpISExMlSUFBQU59g4KCHMusxowZo4IFCzoeoaGhOVs4AAAAgHwn1wSl5557Tj/88IMWLFiQZpnNZnN6boxJ05ZqyJAhOnXqlONx6NChHKkXAAAAQP7l0muUUj3//PNatmyZvvnmG5UqVcrRHhwcLOnfI0shISGO9qSkpDRHmVLZ7XbZ7facLRgAAABAvubSI0rGGD333HNasmSJvvrqK5UpU8ZpeZkyZRQcHKz4+HhH28WLF7V27VrVr1//VpcLAAAA4Dbh0iNKzz77rObPn69PPvlE/v7+juuOChYsKG9vb9lsNvXt21exsbGKiIhQRESEYmNj5ePjow4dOriydAAAAAD5mEuD0tSpUyVJjRo1cmqfNWuWunbtKkkaOHCgzp8/r969e+vEiROqW7euVq1aJX9//1tcLQAAAIDbhUuDkjHmun1sNptiYmIUExOT8wUBAAAAgHLRrHcAAAAAkFsQlAAAAADAgqAEAAAAABYEJQAAAACwICgBAAAAgAVBCQAAAAAsCEoAAAAAYEFQAgAAAAALghIAAAAAWBCUAAAAAMCCoAQAAAAAFgQlAAAAALAgKAEAAACABUEJAAAAACwISgAAAABgQVACAAAAAAuCEgAAAABYEJQAAAAAwIKgBAAAAAAWBCUAAAAAsCAoAQAAAIAFQQkAAAAALAhKAAAAAGBBUAIAAAAAC4ISAAAAAFgQlAAAAADAgqAEAAAAABYEJQAAAACwICgBAAAAgAVBCQAAAAAsCEoAAAAAYEFQAgAAAAALghIAAAAAWBCUAAAAAMCCoAQAAAAAFgQlAAAAALAgKAEAAACABUEJAAAAACwISgAAAABgQVACAAAAAAuCEgAAAABYEJQAAAAAwIKgBAAAAAAWBCUAAAAAsCAoAQAAAIAFQQkAAAAALAhKAAAAAGBBUAIAAAAAC4ISAAAAAFgQlAAAAADAgqAEAAAAABYEJQAAAACwICgBAAAAgAVBCQAAAAAsCEoAAAAAYEFQAgAAAAALghIAAAAAWBCUAAAAAMCCoAQAAAAAFgQlAAAAALAgKAEAAACABUEJAAAAACwISgAAAABgQVACAAAAAAuCEgAAAABYEJQAAAAAwIKgBAAAAAAWBCUAAAAAsCAoAQAAAICFS4PSN998o4ceekglSpSQzWZTXFyc03JjjGJiYlSiRAl5e3urUaNG2rVrl2uKBQAAAHDbcGlQOnfunKpXr67Jkyenu3zs2LGaMGGCJk+erISEBAUHBys6Olpnzpy5xZUCAAAAuJ24u3LjLVq0UIsWLdJdZozRxIkTNXToULVp00aSNGfOHAUFBWn+/Pnq1avXrSwVAAAAwG0k116jtG/fPiUmJqpp06aONrvdroYNG2rDhg0Zvi45OVmnT592egAAAABAVuTaoJSYmChJCgoKcmoPCgpyLEvPmDFjVLBgQccjNDQ0R+sEAAAAkP/k2qCUymazOT03xqRpu9qQIUN06tQpx+PQoUM5XSIAAACAfMal1yhdS3BwsKR/jyyFhIQ42pOSktIcZbqa3W6X3W7P8foAAAAA5F+59ohSmTJlFBwcrPj4eEfbxYsXtXbtWtWvX9+FlQEAAADI71x6ROns2bPau3ev4/m+ffu0Y8cOFSlSRGFhYerbt69iY2MVERGhiIgIxcbGysfHRx06dHBh1QAAAADyO5cGpa1bt6px48aO5/369ZMkdenSRbNnz9bAgQN1/vx59e7dWydOnFDdunW1atUq+fv7u6pkAAAAALcBlwalRo0ayRiT4XKbzaaYmBjFxMTcuqIAAAAA3PZy7TVKAAAAAOAqBCUAAAAAsCAoAQAAAIAFQQkAAAAALAhKAAAAAGBBUAIAAAAAC4ISAAAAAFgQlAAAAADAgqAEAAAAABYEJQAAAACwICgBAAAAgAVBCQAAAAAsCEoAAAAAYEFQAgAAAAALghIAAAAAWBCUAAAAAMCCoAQAAAAAFgQlAAAAALAgKAEAAACABUEJAAAAACwISgAAAABgQVACAAAAAAuCEgAAAABYEJQAAAAAwIKgBAAAAAAWBCUAAAAAsCAoAQAAAIAFQQkAAAAALAhKAAAAAGBBUAIAAAAAC4ISAAAAAFgQlAAAAADAgqAEAAAAABYEJQAAAACwICgBAAAAgAVBCQAAAAAsCEoAAAAAYEFQAgAAAAALghIAAAAAWBCUAAAAAMCCoAQAAAAAFgQlAAAAALAgKAEAAACABUEJAAAAACwISgAAAABgQVACAAAAAAuCEgAAAABYEJQAAAAAwIKgBAAAAAAWBCUAAAAAsCAoAQAAAIAFQQkAAAAALAhKAAAAAGBBUAIAAAAAC4ISAAAAAFgQlAAAAADAgqAEAAAAABYEJQAAAACwICgBAAAAgAVBCQAAAAAsCEoAAAAAYEFQAgAAAAALghIAAAAAWBCUAAAAAMCCoAQAAAAAFgQlAAAAALAgKAEAAACABUEJAAAAACzyRFCaMmWKypQpIy8vL9WqVUvr1q1zdUkAAAAA8rFcH5QWLVqkvn37aujQodq+fbvuuecetWjRQgcPHnR1aQAAAADyqVwflCZMmKAePXqoZ8+eqlSpkiZOnKjQ0FBNnTrV1aUBAAAAyKfcXV3AtVy8eFHfffedBg8e7NTetGlTbdiwId3XJCcnKzk52fH81KlTkqTTp0/nXKH/35Xk8zm+DdyYMx5XXF0CruFWfD9vFcaB3I2xIPfKT+OAxFiQmzEO5F63YhxI3YYx5rp9c3VQ+vvvv3XlyhUFBQU5tQcFBSkxMTHd14wZM0YjR45M0x4aGpojNSJvqOrqAnBtYwq6ugLcJhgLcjHGAdwijAO52C0cB86cOaOCBa+9vVwdlFLZbDan58aYNG2phgwZon79+jmep6Sk6Pjx4woMDMzwNcjfTp8+rdDQUB06dEgBAQGuLgeAizAWAGAcgDFGZ86cUYkSJa7bN1cHpaJFi6pAgQJpjh4lJSWlOcqUym63y263O7UVKlQop0pEHhIQEMCgCICxAADjwG3uekeSUuXqyRw8PT1Vq1YtxcfHO7XHx8erfv36LqoKAAAAQH6Xq48oSVK/fv3UqVMn1a5dW/Xq1dO7776rgwcP6umnn3Z1aQAAAADyqVwflJ544gkdO3ZMo0aN0pEjR1S1alV99tlnKl26tKtLQx5ht9s1YsSINKdkAri9MBYAYBxAVthMZubGAwAAAIDbSK6+RgkAAAAAXIGgBAAAAAAWBCUAAAAAsCAoAQAAAIAFQQl52oYNG1SgQAE1b948zbKPP/5YdevWVcGCBeXv768qVaqof//+kqRGjRrJZrNl+AgPD7/F7wTAzcpoPNi/f79sNpt27NjhaOvates1xwCbzXaLqwdwsxITE9WnTx+VL19eXl5eCgoK0t13361p06bpn3/+kSTZbDbFxcW5tlDkGbl+enDgWmbOnKnnn39e7733ng4ePKiwsDBJ0pdffql27dopNjZWDz/8sGw2m3766SetXr1akrRkyRJdvHhRknTo0CHdeeed+vLLL1WlShVJUoECBVzzhgDcsIzGg/RMmjRJr732muN5SEiIZs2ale4fXQDkfr///rsaNGigQoUKKTY2VlFRUbp8+bJ++eUXzZw5UyVKlNDDDz/s6jKRxzA9OPKsc+fOKSQkRAkJCRoxYoQqV66s4cOHS5L69u2r77//Xl9//fV117N//36VKVNG27dvV40aNXK4agA54VrjQWa+4zabTUuXLlXr1q1vXdEAsk3z5s21a9cu/fzzz/L19U2z3BijMmXK6MCBA4620qVLa//+/YqJiVFcXJyeeeYZjR49WseOHdMDDzyg6dOnq1ChQrfwXSC34dQ75FmLFi1SZGSkIiMj9eSTT2rWrFlKzf3BwcHatWuXdu7c6eIqAdwK1xoPAORvx44d06pVq/Tss8+mG5Kkf/8YkpCQIEmaNWuWjhw54nguSXv37tXixYv16aefauXKldqxY4eeffbZW1I/ci+CEvKsGTNm6Mknn5T071+Szp496zi17vnnn1edOnUUFRWl8PBwtWvXTjNnzlRycrIrSwaQQ641HgDI3/bu3StjjCIjI53aixYtKj8/P/n5+WnQoEEqVqyYJKlQoUIKDg52PJekCxcuaM6cOapRo4buvfdevf3221q4cKESExNv6XtB7kJQQp60Z88ebdmyRe3atZMkubu764knntDMmTMlSb6+vlqxYoX27t2r//73v/Lz81P//v115513Oi7oBJA/XG88AHB7sE7CsmXLFu3YsUNVqlS57h9Kw8LCVKpUKcfzevXqKSUlRXv27MmRWpE3MJkD8qQZM2bo8uXLKlmypKPNGCMPDw+dOHFChQsXliSVK1dO5cqVU8+ePTV06FBVqFBBixYtUrdu3VxVOoBsdr3xAED+Vr58edlsNv38889O7WXLlpUkeXt7Z3mdqaGLGTBvbxxRQp5z+fJlzZ07V2+88YZ27NjheHz//fcqXbq05s2bl+7rwsPD5ePjo3Pnzt3iigHklBsdDwDkH4GBgYqOjtbkyZOv+2+8h4eHrly5kqb94MGDOnz4sOP5xo0b5ebmpgoVKmR7vcg7OKKEPGf58uU6ceKEevTooYIFCzota9u2rWbMmKG///5b//zzj1q2bKnSpUvr5MmTeuutt3Tp0iVFR0e7qHIA2S0z48GDDz4oSemeQlO5cmV5enrekloB5JwpU6aoQYMGql27tmJiYlStWjW5ubkpISFBP//8s2rVqiXp3z+arl69Wg0aNJDdbnecgeLl5aUuXbpo/PjxOn36tF544QU9/vjjCg4OduXbgotxRAl5zowZM9SkSZM0vxRJ0qOPPqodO3bI399fv//+uzp37qyKFSuqRYsWSkxM1KpVq9Jc7Akg78rMeHD8+HFJUrt27VSzZk2nx9V/QQaQd5UrV07bt29XkyZNNGTIEFWvXl21a9fW22+/rQEDBuiVV16RJL3xxhuKj49XaGioatas6Xh9+fLl1aZNG7Vs2VJNmzZV1apVNWXKFFe9HeQS3EcJAAAAt63U+yjt2LHD1aUgl+GIEgAAAABYEJQAAAAAwIJT7wAAAADAgiNKAAAAAGBBUAIAAAAAC4ISAAAAAFgQlAAAAADAgqAEAAAAABYEJQDATbPZbIqLi3N1GQAAZBuCEgDgurp27arWrVtnuPzIkSNq0aLFrSvo/9u/f79sNlu6j02bNt3yegAA+Ye7qwsAAOR9wcHBObr+K1euyGazyc0t/b/vffnll6pSpYpTW2BgYI7WBADI3ziiBAC4aVefelevXj0NHjzYafnRo0fl4eGhr7/+WpJ08eJFDRw4UCVLlpSvr6/q1q2rNWvWOPrPnj1bhQoV0vLly1W5cmXZ7XYdOHAgw+0HBgYqODjY6eHh4SFJiomJUY0aNfT+++8rPDxcBQsWVLt27XTmzBlJGR+VatSokc6dO6eAgAB99NFHTtv79NNP5evrqzNnzjhev3jxYt1zzz3y9vZWnTp19MsvvyghIUG1a9eWn5+fmjdvrqNHjzqtZ9asWapUqZK8vLxUsWJFTZkyxbHs4sWLeu655xQSEiIvLy+Fh4drzJgxWfvBAABuGEEJAJCtOnbsqAULFsgY42hbtGiRgoKC1LBhQ0lSt27d9O2332rhwoX64Ycf9Nhjj6l58+b69ddfHa/5559/NGbMGL333nvatWuXihcvfsM1/fbbb4qLi9Py5cu1fPlyrV27Vq+99pokKTQ0VEeOHHE8tm/frsDAQN17773y9fVVu3btNGvWLKf1zZo1S23btpW/v7+jbcSIEfrvf/+rbdu2yd3dXe3bt9fAgQM1adIkrVu3Tr/99puGDx/u6D99+nQNHTpUr776qnbv3q3Y2FgNGzZMc+bMkSS99dZbWrZsmRYvXqw9e/bogw8+UHh4+A1/BgCALDIAAFxHly5dTKtWrTJcLsksXbrUGGNMUlKScXd3N998841jeb169cxLL71kjDFm7969xmazmT///NNpHffff78ZMmSIMcaYWbNmGUlmx44d16xr3759RpLx9vY2vr6+To/Lly8bY4wZMWKE8fHxMadPn3a87qWXXjJ169ZNs77z58+bunXrmgcffNBcuXLFGGPM5s2bTYECBRz1Hj161Hh4eJg1a9Y41fDee+851rNgwQIjyaxevdrRNmbMGBMZGel4HhoaaubPn++0/VdeecXUq1fPGGPM888/b+677z6TkpJyzc8AAJAzuEYJAJCtihUrpujoaM2bN0/33HOP9u3bp40bN2rq1KmSpG3btskYowoVKji9Ljk52em6Ik9PT1WrVi1T21y0aJEqVark1FagQAHH/4eHhzsd/QkJCVFSUlKa9fTo0UNnzpxRfHy843qoO++8U1WqVNHcuXM1ePBgvf/++woLC9O9997r9Nqraw0KCpIkRUVFObWlbvPo0aM6dOiQevToof/85z+OPpcvX1bBggUl/TuBRnR0tCIjI9W8eXM9+OCDatq0aaY+DwDAzSMoAQCyXceOHdWnTx+9/fbbmj9/vqpUqaLq1atLklJSUlSgQAF99913TmFGkvz8/Bz/7+3tLZvNlqnthYaGqnz58hkuT71eKZXNZlNKSopT2+jRo7Vy5Upt2bLFKVRJUs+ePTV58mQNHjxYs2bNUrdu3dLUdvU2UpdZ21K3mfrf6dOnq27duk7rSf1M7rjjDu3bt0+ff/65vvzySz3++ONq0qRJmuulAAA5g6AEAMh2rVu3Vq9evbRy5UrNnz9fnTp1ciyrWbOmrly5oqSkJN1zzz0urPJ/Pv74Y40aNUqff/65ypUrl2b5k08+qYEDB+qtt97Srl271KVLl5vaXlBQkEqWLKnff/9dHTt2zLBfQECAnnjiCT3xxBNq27atmjdvruPHj6tIkSI3tX0AwPURlAAAmXLq1Cnt2LHDqa1IkSIKCwtL09fX11etWrXSsGHDtHv3bnXo0MGxrEKFCurYsaM6d+6sN954QzVr1tTff/+tr776SlFRUWrZsmWWazt27JgSExOd2goVKiQvL6/rvnbnzp3q3LmzBg0apCpVqjjW4+np6QgkhQsXVps2bfTSSy+padOmKlWqVJZrtIqJidELL7yggIAAtWjRQsnJydq6datOnDihfv366c0331RISIhq1KghNzc3ffjhhwoODlahQoVuetsAgOtj1jsAQKasWbNGNWvWdHpcPYubVceOHfX999/rnnvuSROmZs2apc6dO6t///6KjIzUww8/rM2bNys0NPSGamvSpIlCQkKcHqnTlV/P1q1b9c8//2j06NFOr2/Tpo1Tvx49eujixYvq3r37DdVo1bNnT7333nuaPXu2oqKi1LBhQ82ePVtlypSR9O9piK+//rpq166tOnXqaP/+/frss88yvJcUACB72Yy5av5WAACQrnnz5qlPnz46fPiwPD09XV0OACCHceodAADX8M8//2jfvn0aM2aMevXqRUgCgNsEx+8BALiGsWPHqkaNGgoKCtKQIUNcXQ4A4Bbh1DsAAAAAsOCIEgAAAABYEJQAAAAAwIKgBAAAAAAWBCUAAAAAsCAoAQAAAIAFQQkAAAAALAhKAAAAAGBBUAIAAAAAi/8HraP7/FJTkUMAAAAASUVORK5CYII=",
=======
      "image/png": "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",
>>>>>>> e09260cc58cba16ef9984c82a4ce0d3dbafc6c0b
      "text/plain": [
       "<Figure size 1000x600 with 1 Axes>"
      ]
     },
     "metadata": {},
     "output_type": "display_data"
    }
   ],
   "source": [
    "# Vẽ biểu đồ so sánh\n",
    "plt.figure(figsize=(10, 6))\n",
    "sns.barplot(data=liver_enzymes.reset_index().melt(id_vars='smoking'), x='variable', y='value', hue='smoking')\n",
    "plt.xlabel('Liver Enzymes')\n",
    "plt.ylabel('Mean Value')\n",
    "plt.title('So sánh men gan giữa người hút thuốc và người không hút thuốc')\n",
    "plt.legend(title='Smoking')\n",
    "plt.show()\n"
   ]
  },
  {
   "cell_type": "markdown",
<<<<<<< HEAD
   "id": "17a8bf04",
=======
   "id": "8017841e",
   "metadata": {},
   "source": [
    "Justifications question 3: \n",
    "- Ta có thể thấy rõ cả 3 chỉ số AST, ALT, GTP của người hút thuốc là đều cao hơn người không hút thuốc lá. Song theo như cách đọc chỉ số(AST từ 10-40 đơn vị/lít (U/L), ALT 7 - 56 đơn vị/lít (U/L), GGT Nam giới: 9 - 48 đơn vị/lít (U/L) Nữ giới: 8 - 40 đơn vị/lít (U/L)) thì ta có thể thấy cả AST và ALT đều bình thường, thế mà chỉ số GTP cao gần gấp đôi so với người không hút thuốc lá và vượt khoảng an toàn, gây ảnh hưởng trực tiếp đến sức khoẻ.\n"
   ]
  },
  {
   "cell_type": "markdown",
   "id": "edaff885",
>>>>>>> e09260cc58cba16ef9984c82a4ce0d3dbafc6c0b
   "metadata": {},
   "source": [
    "Justifications question 3: \n",
    "- Ta có thể thấy rõ cả 3 chỉ số AST, ALT, GTP của người hút thuốc là đều cao hơn người không hút thuốc lá. Song theo như cách đọc chỉ số(AST từ 10-40 đơn vị/lít (U/L), ALT 7 - 56 đơn vị/lít (U/L), GGT Nam giới: 9 - 48 đơn vị/lít (U/L) Nữ giới: 8 - 40 đơn vị/lít (U/L)) thì ta có thể thấy cả AST và ALT đều bình thường, thế mà chỉ số GTP cao gần gấp đôi so với người không hút thuốc lá và vượt khoảng an toàn, gây ảnh hưởng trực tiếp đến sức khoẻ.\n"
   ]
  },
  {
<<<<<<< HEAD
   "cell_type": "markdown",
   "id": "edaff885",
=======
   "cell_type": "code",
   "execution_count": 103,
   "id": "18e181f7",
   "metadata": {},
   "outputs": [],
   "source": [
    "# Tỷ lệ sâu răng\n",
    "caries_rate_smokers = df_clean[df_clean['smoking']==1]['dental caries'].mean()\n",
    "caries_rate_non_smokers = df_clean[df_clean['smoking']==0]['dental caries'].mean()"
   ]
  },
  {
   "cell_type": "code",
   "execution_count": 104,
   "id": "58c9de02",
   "metadata": {},
   "outputs": [],
   "source": [
    "# Chuyển đổi cột 'tartar' sang dạng nhị phân\n",
    "df_clean['tartar_binary'] = (df_clean['tartar'].str.contains('Y', case=False)).astype(int)\n",
    "\n",
    "# Tỷ lệ cao răng\n",
    "tartar_rate_smokers = df_clean[df_clean['smoking']==1]['tartar_binary'].mean()\n",
    "tartar_rate_non_smokers = df_clean[df_clean['smoking']==0]['tartar_binary'].mean()\n"
   ]
  },
  {
   "cell_type": "code",
   "execution_count": 105,
   "id": "31a9c493",
>>>>>>> e09260cc58cba16ef9984c82a4ce0d3dbafc6c0b
   "metadata": {},
   "source": [
<<<<<<< HEAD
    "Question 4: Những người hút thuốc có tỷ lệ bị sâu răng và cao răng cao hơn so với những người không hút thuốc không?\n",
    "- Hoàng Văn Tùng"
=======
    "# Dữ liệu cho biểu đồ\n",
    "df_clean = [caries_rate_non_smokers, caries_rate_smokers, tartar_rate_non_smokers, tartar_rate_smokers]\n",
    "labels = ['Sâu răng\\n(Không hút thuốc)', 'Sâu răng\\n(Hút thuốc)', 'Cao răng\\n(Không hút thuốc)', 'Cao răng\\n(Hút thuốc)']"
>>>>>>> e09260cc58cba16ef9984c82a4ce0d3dbafc6c0b
   ]
  },
  {
   "cell_type": "code",
<<<<<<< HEAD
   "execution_count": 25,
=======
   "execution_count": 122,
>>>>>>> e09260cc58cba16ef9984c82a4ce0d3dbafc6c0b
   "id": "049cd479",
   "metadata": {},
   "outputs": [
    {
     "data": {
<<<<<<< HEAD
      "image/png": "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",
=======
      "image/png": "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",
>>>>>>> e09260cc58cba16ef9984c82a4ce0d3dbafc6c0b
      "text/plain": [
       "<Figure size 800x600 with 1 Axes>"
      ]
     },
     "metadata": {},
     "output_type": "display_data"
    }
   ],
   "source": [
    "# Tỷ lệ sâu răng\n",
<<<<<<< HEAD
    "caries_rate_smokers = df1[df1['smoking']==1]['dental caries'].mean()\n",
    "caries_rate_non_smokers = df1[df1['smoking']==0]['dental caries'].mean()\n",
    "# Chuyển đổi cột 'tartar' sang dạng nhị phân\n",
    "df1['tartar_binary'] = (df1['tartar'].str.contains('Y', case=False)).astype(int)\n",
    "\n",
    "# Tỷ lệ cao răng\n",
    "tartar_rate_smokers = df1[df1['smoking']==1]['tartar_binary'].mean()\n",
    "tartar_rate_non_smokers = df1[df1['smoking']==0]['tartar_binary'].mean()\n",
    "# Dữ liệu cho biểu đồ\n",
    "df1 = [caries_rate_non_smokers, caries_rate_smokers, tartar_rate_non_smokers, tartar_rate_smokers]\n",
    "labels = ['Sâu răng\\n(Không hút thuốc)', 'Sâu răng\\n(Hút thuốc)', 'Cao răng\\n(Không hút thuốc)', 'Cao răng\\n(Hút thuốc)']\n",
    "# Vẽ biểu đồ\n",
    "fig, ax = plt.subplots(figsize=(8, 6))\n",
    "bars = ax.bar(labels, df1, color=['blue', 'red', 'blue', 'red'])\n",
=======
    "caries_rate_smokers = df_clean[df_clean['smoking']==1]['dental caries'].mean()\n",
    "caries_rate_non_smokers = df_clean[df_clean['smoking']==0]['dental caries'].mean()\n",
    "# Chuyển đổi cột 'tartar' sang dạng nhị phân\n",
    "df_clean['tartar_binary'] = (df_clean['tartar'].str.contains('Y', case=False)).astype(int)\n",
    "\n",
    "# Tỷ lệ cao răng\n",
    "tartar_rate_smokers = df_clean[df_clean['smoking']==1]['tartar_binary'].mean()\n",
    "tartar_rate_non_smokers = df_clean[df_clean['smoking']==0]['tartar_binary'].mean()\n",
    "# Dữ liệu cho biểu đồ\n",
    "df_clean = [caries_rate_non_smokers, caries_rate_smokers, tartar_rate_non_smokers, tartar_rate_smokers]\n",
    "labels = ['Sâu răng\\n(Không hút thuốc)', 'Sâu răng\\n(Hút thuốc)', 'Cao răng\\n(Không hút thuốc)', 'Cao răng\\n(Hút thuốc)']\n",
    "# Vẽ biểu đồ\n",
    "fig, ax = plt.subplots(figsize=(8, 6))\n",
    "bars = ax.bar(labels, df_clean, color=['blue', 'red', 'blue', 'red'])\n",
>>>>>>> e09260cc58cba16ef9984c82a4ce0d3dbafc6c0b
    "for bar in bars:\n",
    "    height = bar.get_height()\n",
    "    ax.annotate(f'{height:.2f}',\n",
    "                xy=(bar.get_x() + bar.get_width() / 2, height),\n",
    "                xytext=(0, 3),  # 3 points vertical offset\n",
    "                textcoords=\"offset points\",\n",
    "                ha='center', va='bottom')\n",
    "ax.set_ylabel('Tỷ lệ')\n",
    "ax.set_title('Tỷ lệ sâu răng và cao răng ở người hút thuốc và không hút thuốc')\n",
    "plt.show()"
   ]
  },
  {
   "cell_type": "markdown",
<<<<<<< HEAD
   "id": "bba5afd3",
=======
   "id": "b8eae799",
>>>>>>> e09260cc58cba16ef9984c82a4ce0d3dbafc6c0b
   "metadata": {},
   "source": [
    "Justifications question 4:\n",
    "- Theo như biểu đồ ta có thể thấy, người hút thuốc có tỉ lệ sâu răng và cao răng cao hơn người không hút thuốc. Nhất là sâu răng cao gấp 1.5 lần."
   ]
  },
  {
   "cell_type": "markdown",
   "id": "4f1cb5d4",
   "metadata": {},
   "source": [
    "Question 5:  Tỷ lệ protein trong nước tiểu của người hút thuốc có cao hơn so với người không hút thuốc không?\n",
    "- Nguyễn Lê Như Nghĩa"
   ]
  },
  {
   "cell_type": "code",
<<<<<<< HEAD
   "execution_count": 6,
=======
   "execution_count": 107,
>>>>>>> e09260cc58cba16ef9984c82a4ce0d3dbafc6c0b
   "id": "53ef4992",
   "metadata": {},
   "outputs": [
    {
     "name": "stdout",
     "output_type": "stream",
     "text": [
      "Mức độ protein trong nước tiểu:\n",
      "Người hút thuốc:  1.0948765673981191\n",
      "Người không hút thuốc: 1.0830081589216034\n",
      "t-statistic: 3.30\n",
      "p-value: 0.0010\n",
      "Mức protein trong nước tiểu ở người hút thuốc cao hơn đáng kể so với người không hút thuốc.\n"
     ]
    }
   ],
   "source": [
<<<<<<< HEAD
    "df1 = pd.read_csv('smoking.csv')\n",
    "# Extract the relevant data\n",
    "smokers = df1[df1['smoking'] == 1]\n",
    "non_smokers = df1[df1['smoking'] == 0]\n",
    "\n",
=======
>>>>>>> e09260cc58cba16ef9984c82a4ce0d3dbafc6c0b
    "# Compare the urinary protein levels\n",
    "print(\"Mức độ protein trong nước tiểu:\")\n",
    "print(\"Người hút thuốc: \", smokers['Urine protein'].mean())\n",
    "print(\"Người không hút thuốc:\", non_smokers['Urine protein'].mean())\n",
    "\n",
    "# Perform a t-test to check for statistical significance\n",
    "from scipy.stats import ttest_ind\n",
    "t_stat, p_value = ttest_ind(smokers['Urine protein'], non_smokers['Urine protein'])\n",
    "\n",
    "print(f\"t-statistic: {t_stat:.2f}\")\n",
    "print(f\"p-value: {p_value:.4f}\")\n",
    "#xác suất để sự khác biệt\n",
    "if p_value < 0.05:\n",
    "    print(\"Mức protein trong nước tiểu ở người hút thuốc cao hơn đáng kể so với người không hút thuốc.\")\n",
    "else:\n",
    "    print(\"Không có sự khác biệt đáng kể về nồng độ protein trong nước tiểu giữa người hút thuốc và người không hút thuốc.\")"
   ]
  },
  {
   "cell_type": "code",
<<<<<<< HEAD
   "execution_count": 7,
   "id": "d894026e",
=======
   "execution_count": 118,
   "id": "784ed106",
>>>>>>> e09260cc58cba16ef9984c82a4ce0d3dbafc6c0b
   "metadata": {},
   "outputs": [
    {
     "data": {
      "text/plain": [
       "<Figure size 1200x600 with 0 Axes>"
      ]
     },
     "metadata": {},
     "output_type": "display_data"
    },
    {
     "data": {
      "image/png": "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",
      "text/plain": [
       "<Figure size 640x480 with 1 Axes>"
      ]
     },
     "metadata": {},
     "output_type": "display_data"
    }
   ],
   "source": [
    "import matplotlib.pyplot as plt\n",
    "\n",
    "plt.figure(figsize=(12, 6))\n",
    "df_clean.groupby('smoking')[['Cholesterol', 'triglyceride', 'HDL', 'LDL']].mean().plot(kind='bar')\n",
    "\n",
    "# Thêm tiêu đề và chú thích\n",
    "plt.title('Chỉ số sức khỏe theo tình trạng hút thuốc')\n",
    "plt.xlabel('(0: Không hút, 1: Có hút)')\n",
    "plt.ylabel('Giá trị trung bình')\n",
    "plt.legend(['Cholesterol', 'Triglyceride', 'HDL', 'LDL'], title='Chỉ số sức khỏe')\n",
    "plt.show()"
   ]
  },
  {
   "cell_type": "markdown",
   "id": "11caf5da",
   "metadata": {},
   "source": [
    "Justifications question 5: \n",
    "- Nhóm hút thuốc (1: Có hút): Chỉ số Cholesterol, Triglyceride và LDL (Low-Density Lipoprotein) đều cao hơn so với nhóm không hút thuốc. Chỉ số HDL (High-Density Lipoprotein) thấp hơn.\n",
    "\n",
    "- Nhóm không hút thuốc (0: Không hút): Chỉ số Cholesterol, Triglyceride và LDL thấp hơn. Chỉ số HDL cao hơn."
   ]
  },
  {
   "cell_type": "markdown",
   "id": "c3895cab",
   "metadata": {},
   "source": [
    "Question 6: Việc hút thuốc ảnh hưởng như thế nào đến thị lực (mắt trái và mắt phải)?\n",
    "- Nguyễn Lê Như Nghĩa"
   ]
  },
  {
   "cell_type": "code",
<<<<<<< HEAD
   "execution_count": 8,
   "id": "eff3ffb0",
=======
   "execution_count": 119,
   "id": "264d7b57",
>>>>>>> e09260cc58cba16ef9984c82a4ce0d3dbafc6c0b
   "metadata": {},
   "outputs": [
    {
     "data": {
      "image/png": "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",
      "text/plain": [
       "<Figure size 1200x500 with 2 Axes>"
      ]
     },
     "metadata": {},
     "output_type": "display_data"
    }
   ],
   "source": [
    "# Phân tích tác động của việc hút thuốc đến thị lực\n",
    "fig, ax = plt.subplots(1, 2, figsize=(12, 5))\n",
    "\n",
    "# Thị lực (mắt trái)\n",
    "ax[0].boxplot([df_clean['eyesight(left)'][df_clean['smoking'] == 0], df_clean['eyesight(left)'][df_clean['smoking'] == 1]], labels=['Người không hút thuốc', 'Người hút thuốc'])\n",
    "ax[0].set_title('Thị lực (Mắt trái)')\n",
    "ax[0].set_xlabel('Tình trạng hút thuốc')\n",
    "ax[0].set_ylabel('Thị lực')\n",
    "\n",
    "# Thị lực (mắt phải)\n",
    "ax[1].boxplot([df_clean['eyesight(right)'][df_clean['smoking'] == 0], df_clean['eyesight(right)'][df_clean['smoking'] == 1]], labels=['Người không hút thuốc', 'Người hút thuốc'])\n",
    "ax[1].set_title('Thị lực (Mắt phải)')\n",
    "ax[1].set_xlabel('Tình trạng hút thuốc')\n",
    "ax[1].set_ylabel('Thị lực')\n",
    "\n",
    "plt.suptitle('Tác động của việc hút thuốc đến thị lực')\n",
    "plt.show()"
   ]
  },
  {
   "cell_type": "markdown",
   "id": "75f51969",
   "metadata": {},
   "source": [
    "Justifications question 6:  \n",
    "- Thị lực (mắt trái): Người không hút thuốc có thị lực mắt trái tập trung ở mức cao hơn so với người hút thuốc. Hộp thể hiện mức trung vị của thị lực mắt trái ở nhóm không hút thuốc cao hơn nhóm hút thuốc, cho thấy người không hút thuốc có thị lực mắt trái tốt hơn. Khoảng tứ phân vị (phản ánh sự phân tán) của thị lực mắt trái ở nhóm hút thuốc rộng hơn so với nhóm không hút thuốc, chứng tỏ thị lực mắt trái ở nhóm hút thuốc có sự biến động lớn hơn. Thị lực (mắt phải): Tương tự như mắt trái, người không hút thuốc có thị lực mắt phải tập trung ở mức cao hơn so với người hút thuốc. Hộp thể hiện mức trung vị của thị lực mắt phải ở nhóm không hút thuốc cao hơn nhóm hút thuốc, chứng tỏ người không hút thuốc có thị lực mắt phải tốt hơn. Khoảng tứ phân vị của thị lực mắt phải ở nhóm hút thuốc cũng rộng hơn so với nhóm không hút thuốc, cho thấy sự biến động lớn hơn."
   ]
  },
  {
   "cell_type": "markdown",
   "id": "409b545c",
   "metadata": {},
   "source": [
    "##Reflection"
   ]
  },
  {
   "cell_type": "code",
<<<<<<< HEAD
   "execution_count": null,
   "id": "58d0cdb6",
   "metadata": {},
   "outputs": [],
   "source": [
    "Sau các bước trên, tôi đã có dữ liệu rõ ràng và các câu hỏi nghiên cứu. Bằng cách sử dụng các câu hỏi nghiên cứu chúng tôi có thể nhận thấy các chỉ số sức khỏe với người hút thuốc và không hút thuốc. Trong tương lai sẽ tiếp tục theo dõi thêm về các chỉ số sức khỏe khác."
=======
   "execution_count": 120,
   "id": "75516755",
   "metadata": {},
   "outputs": [],
   "source": [
    "# Đọc dữ liệu từ 2 file\n",
    "df2 = pd.read_csv('list_of_real_usa_addresses.csv')\n",
    "df3 = pd.read_csv('smoking.csv')\n",
    "\n",
    "# Gộp 2 dataframe lại với nhau\n",
    "merged_df = pd.concat([df_clean, df2], ignore_index=True)\n",
    "\n",
    "# Lưu file gộp lại\n",
    "merged_df.to_csv('merged_file.csv', index=False)"
   ]
  },
  {
   "cell_type": "code",
   "execution_count": 121,
   "id": "f09ecd59",
   "metadata": {},
   "outputs": [
    {
     "name": "stdout",
     "output_type": "stream",
     "text": [
      "        ID gender   age  height(cm)  weight(kg)  waist(cm)  eyesight(left)  \\\n",
      "0      0.0      F  40.0       155.0        60.0       81.3             1.2   \n",
      "1      1.0      F  40.0       160.0        60.0       81.0             0.8   \n",
      "2      2.0      M  55.0       170.0        60.0       80.0             0.8   \n",
      "3      3.0      M  40.0       165.0        70.0       88.0             1.5   \n",
      "4      4.0      F  40.0       155.0        60.0       86.0             1.0   \n",
      "...    ...    ...   ...         ...         ...        ...             ...   \n",
      "54473  NaN    NaN   NaN         NaN         NaN        NaN             NaN   \n",
      "54474  NaN    NaN   NaN         NaN         NaN        NaN             NaN   \n",
      "54475  NaN    NaN   NaN         NaN         NaN        NaN             NaN   \n",
      "54476  NaN    NaN   NaN         NaN         NaN        NaN             NaN   \n",
      "54477  NaN    NaN   NaN         NaN         NaN        NaN             NaN   \n",
      "\n",
      "       eyesight(right)  hearing(left)  hearing(right)  ...   Gtp  oral  \\\n",
      "0                  1.0            1.0             1.0  ...  27.0     Y   \n",
      "1                  0.6            1.0             1.0  ...  18.0     Y   \n",
      "2                  0.8            1.0             1.0  ...  22.0     Y   \n",
      "3                  1.5            1.0             1.0  ...  18.0     Y   \n",
      "4                  1.0            1.0             1.0  ...  22.0     Y   \n",
      "...                ...            ...             ...  ...   ...   ...   \n",
      "54473              NaN            NaN             NaN  ...   NaN   NaN   \n",
      "54474              NaN            NaN             NaN  ...   NaN   NaN   \n",
      "54475              NaN            NaN             NaN  ...   NaN   NaN   \n",
      "54476              NaN            NaN             NaN  ...   NaN   NaN   \n",
      "54477              NaN            NaN             NaN  ...   NaN   NaN   \n",
      "\n",
      "       dental caries  tartar  smoking        BMI                  address  \\\n",
      "0                0.0       Y      0.0  24.973985                      NaN   \n",
      "1                0.0       Y      0.0  23.437500                      NaN   \n",
      "2                0.0       N      1.0  20.761246                      NaN   \n",
      "3                0.0       Y      0.0  25.711662                      NaN   \n",
      "4                0.0       N      0.0  24.973985                      NaN   \n",
      "...              ...     ...      ...        ...                      ...   \n",
      "54473            NaN     NaN      NaN        NaN      1501 Skyland Blvd E   \n",
      "54474            NaN     NaN      NaN        NaN             3501 20th Av   \n",
      "54475            NaN     NaN      NaN        NaN  1300 Montgomery Highway   \n",
      "54476            NaN     NaN      NaN        NaN          4538 Us Hwy 231   \n",
      "54477            NaN     NaN      NaN        NaN           2575 Us Hwy 43   \n",
      "\n",
      "                 city  state      zip  \n",
      "0                 NaN    NaN      NaN  \n",
      "1                 NaN    NaN      NaN  \n",
      "2                 NaN    NaN      NaN  \n",
      "3                 NaN    NaN      NaN  \n",
      "4                 NaN    NaN      NaN  \n",
      "...               ...    ...      ...  \n",
      "54473      Tuscaloosa     AL  35405.0  \n",
      "54474          Valley     AL  36854.0  \n",
      "54475  Vestavia Hills     AL  35216.0  \n",
      "54476        Wetumpka     AL  36092.0  \n",
      "54477        Winfield     AL  35594.0  \n",
      "\n",
      "[54478 rows x 32 columns]\n"
     ]
    },
    {
     "name": "stderr",
     "output_type": "stream",
     "text": [
      "C:\\Users\\ADMIN\\AppData\\Local\\Temp\\ipykernel_10196\\3458831288.py:2: DtypeWarning: Columns (28,29,30) have mixed types. Specify dtype option on import or set low_memory=False.\n",
      "  merged_df = pd.read_csv('merged_file.csv')\n"
     ]
    }
   ],
   "source": [
    "# Đọc dữ liệu từ file merged_file.csv\n",
    "merged_df = pd.read_csv('merged_file.csv')\n",
    "\n",
    "# Hiển thị toàn bộ dữ liệu trong dataframe\n",
    "print(merged_df)"
>>>>>>> e09260cc58cba16ef9984c82a4ce0d3dbafc6c0b
   ]
  },
  {
   "cell_type": "code",
   "execution_count": null,
   "id": "a62d9045",
   "metadata": {},
   "outputs": [],
   "source": []
  }
 ],
 "metadata": {
  "kernelspec": {
   "display_name": "Python 3 (ipykernel)",
   "language": "python",
   "name": "python3"
  },
  "language_info": {
   "codemirror_mode": {
    "name": "ipython",
    "version": 3
   },
   "file_extension": ".py",
   "mimetype": "text/x-python",
   "name": "python",
   "nbconvert_exporter": "python",
   "pygments_lexer": "ipython3",
   "version": "3.12.3"
  }
 },
 "nbformat": 4,
 "nbformat_minor": 5
}
